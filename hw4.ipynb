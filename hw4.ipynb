{
 "cells": [
  {
   "cell_type": "code",
   "execution_count": 13,
   "id": "54fe77cd-3bc0-4818-8435-128f66bfbae3",
   "metadata": {},
   "outputs": [],
   "source": [
    "import os\n",
    "os.environ['CUDA_VISIBLE_DEVICES']='1'\n",
    "import torch\n",
    "import torch.nn as nn\n",
    "import torch.optim as optim\n",
    "from torchvision import datasets, transforms\n",
    "from timm import create_model\n",
    "from sklearn.metrics import precision_recall_fscore_support, f1_score\n",
    "from torch.utils.data import DataLoader\n",
    "import torch.optim.lr_scheduler as lr_scheduler\n",
    "from tqdm.auto import tqdm\n",
    "import wandb\n",
    "\n",
    "device = 'cuda' if torch.cuda.is_available() else 'cpu'"
   ]
  },
  {
   "cell_type": "code",
   "execution_count": 6,
   "id": "93b395b0-4fdc-4ba7-8943-dd3bb5781103",
   "metadata": {},
   "outputs": [
    {
     "name": "stdout",
     "output_type": "stream",
     "text": [
      "Files already downloaded and verified\n",
      "Files already downloaded and verified\n"
     ]
    }
   ],
   "source": [
    "transform = transforms.Compose([\n",
    "    transforms.RandomHorizontalFlip(),\n",
    "    transforms.RandomCrop(32, padding=4),\n",
    "    transforms.ToTensor(),\n",
    "    transforms.Normalize((0.5, 0.5, 0.5), (0.5, 0.5, 0.5))\n",
    "])\n",
    "\n",
    "train_dataset = datasets.CIFAR10(root='./data', train=True, download=True, transform=transform)\n",
    "test_dataset = datasets.CIFAR10(root='./data', train=False, download=True, transform=transform)\n",
    "train_loader = DataLoader(train_dataset, batch_size=64, shuffle=True)\n",
    "test_loader = DataLoader(test_dataset, batch_size=64, shuffle=False)\n",
    "class_labels = ['airplane', 'automobile', 'bird', 'cat', 'deer', \n",
    "                'dog', 'frog', 'horse', 'ship', 'truck']"
   ]
  },
  {
   "cell_type": "code",
   "execution_count": 7,
   "id": "540405b4-1059-4836-9e66-c7be7e13402e",
   "metadata": {},
   "outputs": [
    {
     "name": "stdout",
     "output_type": "stream",
     "text": [
      "Учитель: 7715084\n",
      "Студент: 4020358\n"
     ]
    }
   ],
   "source": [
    "teacher_model = create_model('efficientnet_b2', pretrained=False, num_classes=10).to(device)\n",
    "student_model = create_model('efficientnet_b0', pretrained=False, num_classes=10).to(device)\n",
    "print('Учитель:', sum(p.numel() for p in teacher_model.parameters()))\n",
    "print('Студент:', sum(p.numel() for p in student_model.parameters()))"
   ]
  },
  {
   "cell_type": "code",
   "execution_count": 10,
   "id": "144a3a52-e8e6-417f-b7db-d68609ba4e56",
   "metadata": {},
   "outputs": [],
   "source": [
    "optimizer = optim.Adam(teacher_model.parameters(), lr=0.001)\n",
    "scheduler = lr_scheduler.StepLR(optimizer, step_size=5, gamma=0.6)\n",
    "criterion = nn.CrossEntropyLoss()"
   ]
  },
  {
   "cell_type": "code",
   "execution_count": 11,
   "id": "6d80f639-6b47-4445-ba50-1a4ba1caac4d",
   "metadata": {},
   "outputs": [],
   "source": [
    "def train(model, train_loader, criterion, optimizer):\n",
    "    model.train()\n",
    "    running_loss = 0.0\n",
    "    for inputs, labels in tqdm(train_loader):\n",
    "        inputs, labels = inputs.to(device), labels.to(device)\n",
    "        \n",
    "        optimizer.zero_grad()\n",
    "        outputs = model(inputs)\n",
    "        loss = criterion(outputs, labels)\n",
    "        loss.backward()\n",
    "        optimizer.step()\n",
    "        \n",
    "        running_loss += loss.item()\n",
    "    \n",
    "    return running_loss / len(train_loader)\n",
    "\n",
    "def test(model, test_loader, criterion):\n",
    "    model.eval()\n",
    "    running_loss = 0.0\n",
    "    all_labels = []\n",
    "    all_predictions = []\n",
    "    with torch.no_grad():\n",
    "        for inputs, labels in test_loader:\n",
    "            inputs, labels = inputs.to(device), labels.to(device)\n",
    "            outputs = model(inputs)\n",
    "            loss = criterion(outputs, labels)\n",
    "            \n",
    "            running_loss += loss.item()\n",
    "            _, predicted = torch.max(outputs, 1)\n",
    "            \n",
    "            all_labels.extend(labels.cpu().numpy())\n",
    "            all_predictions.extend(predicted.cpu().numpy())\n",
    "\n",
    "    precision_class, recall_class, f1_class, _ = precision_recall_fscore_support(\n",
    "        all_labels, all_predictions, average=None, zero_division=0\n",
    "    )    \n",
    "    precision, recall, f1, _ = precision_recall_fscore_support(\n",
    "        all_labels, all_predictions, average='weighted', zero_division=0\n",
    "    )\n",
    "    return running_loss / len(test_loader), precision, recall, f1, precision_class, recall_class, f1_class"
   ]
  },
  {
   "cell_type": "code",
   "execution_count": 15,
   "id": "d75b23f1-6910-438a-bdc2-01009a37d561",
   "metadata": {},
   "outputs": [
    {
     "data": {
      "text/html": [
       "wandb version 0.19.6 is available!  To upgrade, please run:\n",
       " $ pip install wandb --upgrade"
      ],
      "text/plain": [
       "<IPython.core.display.HTML object>"
      ]
     },
     "metadata": {},
     "output_type": "display_data"
    },
    {
     "data": {
      "text/html": [
       "Tracking run with wandb version 0.16.6"
      ],
      "text/plain": [
       "<IPython.core.display.HTML object>"
      ]
     },
     "metadata": {},
     "output_type": "display_data"
    },
    {
     "data": {
      "text/html": [
       "Run data is saved locally in <code>/kavesnin/research/wandb/run-20250214_193450-n6gw4abg</code>"
      ],
      "text/plain": [
       "<IPython.core.display.HTML object>"
      ]
     },
     "metadata": {},
     "output_type": "display_data"
    },
    {
     "data": {
      "text/html": [
       "Syncing run <strong><a href='https://wandb.ai/kavesnin-hse/Homework-4/runs/n6gw4abg' target=\"_blank\">efficientnet_b2_teacher</a></strong> to <a href='https://wandb.ai/kavesnin-hse/Homework-4' target=\"_blank\">Weights & Biases</a> (<a href='https://wandb.me/run' target=\"_blank\">docs</a>)<br/>"
      ],
      "text/plain": [
       "<IPython.core.display.HTML object>"
      ]
     },
     "metadata": {},
     "output_type": "display_data"
    },
    {
     "data": {
      "text/html": [
       " View project at <a href='https://wandb.ai/kavesnin-hse/Homework-4' target=\"_blank\">https://wandb.ai/kavesnin-hse/Homework-4</a>"
      ],
      "text/plain": [
       "<IPython.core.display.HTML object>"
      ]
     },
     "metadata": {},
     "output_type": "display_data"
    },
    {
     "data": {
      "text/html": [
       " View run at <a href='https://wandb.ai/kavesnin-hse/Homework-4/runs/n6gw4abg' target=\"_blank\">https://wandb.ai/kavesnin-hse/Homework-4/runs/n6gw4abg</a>"
      ],
      "text/plain": [
       "<IPython.core.display.HTML object>"
      ]
     },
     "metadata": {},
     "output_type": "display_data"
    },
    {
     "data": {
      "application/vnd.jupyter.widget-view+json": {
       "model_id": "606caa704e8d44ee90092ea3980f23d9",
       "version_major": 2,
       "version_minor": 0
      },
      "text/plain": [
       "  0%|          | 0/782 [00:00<?, ?it/s]"
      ]
     },
     "metadata": {},
     "output_type": "display_data"
    },
    {
     "data": {
      "application/vnd.jupyter.widget-view+json": {
       "model_id": "358d7af9937a4a52ba0501afa39c3572",
       "version_major": 2,
       "version_minor": 0
      },
      "text/plain": [
       "  0%|          | 0/782 [00:00<?, ?it/s]"
      ]
     },
     "metadata": {},
     "output_type": "display_data"
    },
    {
     "data": {
      "application/vnd.jupyter.widget-view+json": {
       "model_id": "e8c8a9ba48884b63813915cdfe159421",
       "version_major": 2,
       "version_minor": 0
      },
      "text/plain": [
       "  0%|          | 0/782 [00:00<?, ?it/s]"
      ]
     },
     "metadata": {},
     "output_type": "display_data"
    },
    {
     "data": {
      "application/vnd.jupyter.widget-view+json": {
       "model_id": "08c16e8f5db8483185544086a4e361a0",
       "version_major": 2,
       "version_minor": 0
      },
      "text/plain": [
       "  0%|          | 0/782 [00:00<?, ?it/s]"
      ]
     },
     "metadata": {},
     "output_type": "display_data"
    },
    {
     "data": {
      "application/vnd.jupyter.widget-view+json": {
       "model_id": "7ecfee03f0444f7e9fcafb6951401c83",
       "version_major": 2,
       "version_minor": 0
      },
      "text/plain": [
       "  0%|          | 0/782 [00:00<?, ?it/s]"
      ]
     },
     "metadata": {},
     "output_type": "display_data"
    },
    {
     "data": {
      "application/vnd.jupyter.widget-view+json": {
       "model_id": "6ee717e904d14432babfc9d88d52b4ab",
       "version_major": 2,
       "version_minor": 0
      },
      "text/plain": [
       "  0%|          | 0/782 [00:00<?, ?it/s]"
      ]
     },
     "metadata": {},
     "output_type": "display_data"
    },
    {
     "data": {
      "application/vnd.jupyter.widget-view+json": {
       "model_id": "8d2d715b661945dd9739ebcd3ed3deb4",
       "version_major": 2,
       "version_minor": 0
      },
      "text/plain": [
       "  0%|          | 0/782 [00:00<?, ?it/s]"
      ]
     },
     "metadata": {},
     "output_type": "display_data"
    },
    {
     "data": {
      "application/vnd.jupyter.widget-view+json": {
       "model_id": "89addc5ac73446ddb9f915c53d90b844",
       "version_major": 2,
       "version_minor": 0
      },
      "text/plain": [
       "  0%|          | 0/782 [00:00<?, ?it/s]"
      ]
     },
     "metadata": {},
     "output_type": "display_data"
    },
    {
     "data": {
      "application/vnd.jupyter.widget-view+json": {
       "model_id": "f0e8e77a0e514dc3b21e48338971117f",
       "version_major": 2,
       "version_minor": 0
      },
      "text/plain": [
       "  0%|          | 0/782 [00:00<?, ?it/s]"
      ]
     },
     "metadata": {},
     "output_type": "display_data"
    },
    {
     "data": {
      "application/vnd.jupyter.widget-view+json": {
       "model_id": "9de39ad17eb741d6a9d87dabecda2846",
       "version_major": 2,
       "version_minor": 0
      },
      "text/plain": [
       "  0%|          | 0/782 [00:00<?, ?it/s]"
      ]
     },
     "metadata": {},
     "output_type": "display_data"
    },
    {
     "data": {
      "application/vnd.jupyter.widget-view+json": {
       "model_id": "7647b053727b4d92911ba3959dcc6084",
       "version_major": 2,
       "version_minor": 0
      },
      "text/plain": [
       "  0%|          | 0/782 [00:00<?, ?it/s]"
      ]
     },
     "metadata": {},
     "output_type": "display_data"
    },
    {
     "data": {
      "application/vnd.jupyter.widget-view+json": {
       "model_id": "e8fdd57361364428bb3762bc4dfe3c23",
       "version_major": 2,
       "version_minor": 0
      },
      "text/plain": [
       "  0%|          | 0/782 [00:00<?, ?it/s]"
      ]
     },
     "metadata": {},
     "output_type": "display_data"
    },
    {
     "data": {
      "application/vnd.jupyter.widget-view+json": {
       "model_id": "5f71e2929b75439d9dc9841779a66111",
       "version_major": 2,
       "version_minor": 0
      },
      "text/plain": [
       "  0%|          | 0/782 [00:00<?, ?it/s]"
      ]
     },
     "metadata": {},
     "output_type": "display_data"
    },
    {
     "data": {
      "application/vnd.jupyter.widget-view+json": {
       "model_id": "aacf7dde098240e284a45d2a876540ac",
       "version_major": 2,
       "version_minor": 0
      },
      "text/plain": [
       "  0%|          | 0/782 [00:00<?, ?it/s]"
      ]
     },
     "metadata": {},
     "output_type": "display_data"
    },
    {
     "data": {
      "application/vnd.jupyter.widget-view+json": {
       "model_id": "264b464fc4f741708e6ddd196cfe4c94",
       "version_major": 2,
       "version_minor": 0
      },
      "text/plain": [
       "  0%|          | 0/782 [00:00<?, ?it/s]"
      ]
     },
     "metadata": {},
     "output_type": "display_data"
    },
    {
     "data": {
      "application/vnd.jupyter.widget-view+json": {
       "model_id": "4ba286ea568248058c9e513bed088b6a",
       "version_major": 2,
       "version_minor": 0
      },
      "text/plain": [
       "  0%|          | 0/782 [00:00<?, ?it/s]"
      ]
     },
     "metadata": {},
     "output_type": "display_data"
    },
    {
     "data": {
      "application/vnd.jupyter.widget-view+json": {
       "model_id": "0c0b1708af8e4a5ba1cf8da24b86ae9e",
       "version_major": 2,
       "version_minor": 0
      },
      "text/plain": [
       "  0%|          | 0/782 [00:00<?, ?it/s]"
      ]
     },
     "metadata": {},
     "output_type": "display_data"
    },
    {
     "data": {
      "application/vnd.jupyter.widget-view+json": {
       "model_id": "ad54f9a2f54b43c08cfff90e88424805",
       "version_major": 2,
       "version_minor": 0
      },
      "text/plain": [
       "  0%|          | 0/782 [00:00<?, ?it/s]"
      ]
     },
     "metadata": {},
     "output_type": "display_data"
    },
    {
     "data": {
      "application/vnd.jupyter.widget-view+json": {
       "model_id": "5699aec9b67644aaa1ef1e0c72f5c23d",
       "version_major": 2,
       "version_minor": 0
      },
      "text/plain": [
       "  0%|          | 0/782 [00:00<?, ?it/s]"
      ]
     },
     "metadata": {},
     "output_type": "display_data"
    },
    {
     "data": {
      "application/vnd.jupyter.widget-view+json": {
       "model_id": "2ff9154f1cdd46f5bc91bca5c317e2ec",
       "version_major": 2,
       "version_minor": 0
      },
      "text/plain": [
       "  0%|          | 0/782 [00:00<?, ?it/s]"
      ]
     },
     "metadata": {},
     "output_type": "display_data"
    },
    {
     "data": {
      "application/vnd.jupyter.widget-view+json": {
       "model_id": "a71ea30b60a144fbb8f3ae398775de06",
       "version_major": 2,
       "version_minor": 0
      },
      "text/plain": [
       "  0%|          | 0/782 [00:00<?, ?it/s]"
      ]
     },
     "metadata": {},
     "output_type": "display_data"
    },
    {
     "data": {
      "application/vnd.jupyter.widget-view+json": {
       "model_id": "4a83729410f3453d900f8d19210eb5ef",
       "version_major": 2,
       "version_minor": 0
      },
      "text/plain": [
       "  0%|          | 0/782 [00:00<?, ?it/s]"
      ]
     },
     "metadata": {},
     "output_type": "display_data"
    },
    {
     "data": {
      "application/vnd.jupyter.widget-view+json": {
       "model_id": "d1ee04194a4e42b88834b5d84b53000e",
       "version_major": 2,
       "version_minor": 0
      },
      "text/plain": [
       "  0%|          | 0/782 [00:00<?, ?it/s]"
      ]
     },
     "metadata": {},
     "output_type": "display_data"
    },
    {
     "data": {
      "application/vnd.jupyter.widget-view+json": {
       "model_id": "1741a37fc47540a19a7fe060dbb2129b",
       "version_major": 2,
       "version_minor": 0
      },
      "text/plain": [
       "  0%|          | 0/782 [00:00<?, ?it/s]"
      ]
     },
     "metadata": {},
     "output_type": "display_data"
    },
    {
     "data": {
      "application/vnd.jupyter.widget-view+json": {
       "model_id": "78078f0357904a259f679c9a6c1936a9",
       "version_major": 2,
       "version_minor": 0
      },
      "text/plain": [
       "  0%|          | 0/782 [00:00<?, ?it/s]"
      ]
     },
     "metadata": {},
     "output_type": "display_data"
    }
   ],
   "source": [
    "wandb.init(\n",
    "    project='Homework-4',\n",
    "    name='efficientnet_b2_teacher'\n",
    ")\n",
    "model = teacher_model\n",
    "num_epochs = 25\n",
    "\n",
    "for i, epoch in enumerate(range(num_epochs)):\n",
    "    train_loss = train(model, train_loader, criterion, optimizer)\n",
    "    test_loss, precision, recall, f1, precision_class, recall_class, f1_class = test(model, test_loader, criterion)\n",
    "\n",
    "    scheduler.step()\n",
    "\n",
    "    log_data = {\n",
    "        'epoch': epoch + 1,\n",
    "        'train_loss': train_loss,\n",
    "        'test_loss': test_loss,\n",
    "        'precision_avg': precision,\n",
    "        'recall_avg': recall,\n",
    "        'f1_avg': f1,\n",
    "    }\n",
    "    \n",
    "    for class_idx, value in enumerate(precision_class):\n",
    "        log_data[f'Precision/{class_labels[class_idx]}'] = value\n",
    "    \n",
    "    for class_idx, value in enumerate(recall_class):\n",
    "        log_data[f'Recall/{class_labels[class_idx]}'] = value\n",
    "    \n",
    "    for class_idx, value in enumerate(f1_class):\n",
    "        log_data[f'F1/{class_labels[class_idx]}'] = value\n",
    "    \n",
    "    wandb.log(log_data)"
   ]
  },
  {
   "cell_type": "code",
   "execution_count": 16,
   "id": "ab339423-ee8e-4c27-868a-12b4e4853c73",
   "metadata": {},
   "outputs": [
    {
     "data": {
      "application/vnd.jupyter.widget-view+json": {
       "model_id": "",
       "version_major": 2,
       "version_minor": 0
      },
      "text/plain": [
       "VBox(children=(Label(value='0.017 MB of 0.017 MB uploaded\\r'), FloatProgress(value=1.0, max=1.0)))"
      ]
     },
     "metadata": {},
     "output_type": "display_data"
    },
    {
     "data": {
      "text/html": [
       "<style>\n",
       "    table.wandb td:nth-child(1) { padding: 0 10px; text-align: left ; width: auto;} td:nth-child(2) {text-align: left ; width: 100%}\n",
       "    .wandb-row { display: flex; flex-direction: row; flex-wrap: wrap; justify-content: flex-start; width: 100% }\n",
       "    .wandb-col { display: flex; flex-direction: column; flex-basis: 100%; flex: 1; padding: 10px; }\n",
       "    </style>\n",
       "<div class=\"wandb-row\"><div class=\"wandb-col\"><h3>Run history:</h3><br/><table class=\"wandb\"><tr><td>F1/airplane</td><td>▂▁▄▄▁▅▄▆▅▅▆▆▅▆▇▇▇▇▇██████</td></tr><tr><td>F1/automobile</td><td>▁▂▃▄▄▄▃▅▅▅▆▆▆▇▇▇▇▇▇██████</td></tr><tr><td>F1/bird</td><td>▁▂▄▂▄▅▅▅▅▄▆▆▆▆▇▇▇▇▇▇█████</td></tr><tr><td>F1/cat</td><td>▂▁▁▃▃▄▅▅▅▅▅▅▆▆▆▇▇▇▇█▇▇▇██</td></tr><tr><td>F1/deer</td><td>▂▂▁▃▃▃▃▃▃▅▅▅▆▆▇▇▇▇▇▇█████</td></tr><tr><td>F1/dog</td><td>▁▂▅▆▆▅▄▃▅▆▆▇▇▇▇▇▇█▇▇█▇███</td></tr><tr><td>F1/frog</td><td>▁▂▃▄▄▅▅▅▆▆▆▆▇▇▇▇▇▇▇▇█████</td></tr><tr><td>F1/horse</td><td>▁▃▄▅▅▅▅▆▆▆▆▇▇▇▇▇▇▇███████</td></tr><tr><td>F1/ship</td><td>▂▂▁▃▄▄▄▅▅▅▆▆▆▇▇▇▇▇██▇████</td></tr><tr><td>F1/truck</td><td>▁▂▃▃▃▄▃▅▅▄▆▆▆▆▆▇▇▇▇█▇████</td></tr><tr><td>Precision/airplane</td><td>▂▁▁▃▆▅▂▄▅▄▅▆▅▇▆▇▇▇▇▇▆▇██▇</td></tr><tr><td>Precision/automobile</td><td>▁▃▃▃▄▆▄▅▅▅▆▆▇▇▆▇▇██▇▇▇▇▇█</td></tr><tr><td>Precision/bird</td><td>▁▄▃▄▂▅▄▄▄▇▆▇▆▇▇▇▇▇███████</td></tr><tr><td>Precision/cat</td><td>▁▁▃▄▄▅▄▄▅▅▄▆▇▆▆▆▆▇▇██████</td></tr><tr><td>Precision/deer</td><td>▁▁▄▃▄▄▄▅▆▄▆▅▅▅▇▇▆▇▆▇█▇▇█▇</td></tr><tr><td>Precision/dog</td><td>▁▄▄▄▅▅▅▆▅▅▆▆▆▆▇▇▇█▇▇▆█▇██</td></tr><tr><td>Precision/frog</td><td>▁▁▄▂▃▂▅▆▄▆▆▅▇▇▇█▇█▇██▇███</td></tr><tr><td>Precision/horse</td><td>▁▂▂▄▄▄▅▆▆▅▅▆▇▅▇▇▇▇▇▇████▇</td></tr><tr><td>Precision/ship</td><td>▁▁▃▃▃▄▄▅▄▆▅▅▅▆▆▇▇▆▇███▇██</td></tr><tr><td>Precision/truck</td><td>▁▁▃▃▅▃▄▄▅▄▆▆▆▆▇▇▇▇▆▇▇▇███</td></tr><tr><td>Recall/airplane</td><td>▂▁▅▄▁▅▅▆▅▅▅▅▅▆▇▇▇▇▇███▇▇█</td></tr><tr><td>Recall/automobile</td><td>▂▁▄▅▆▃▃▄▆▅▄▆▆▆█▇▆▆▆▇▇███▇</td></tr><tr><td>Recall/bird</td><td>▁▁▅▂▅▄▆▆▅▃▆▅▆▆▇▇▇█▆▇█▇▇██</td></tr><tr><td>Recall/cat</td><td>▄▂▁▂▂▃▆█▅▄▅▄▄▅▅▆▆▅▆▆▅▆▆▇▆</td></tr><tr><td>Recall/deer</td><td>▅▅▁▃▃▃▃▂▂▇▄▅▇▇▆▆▆▆██▇██▇█</td></tr><tr><td>Recall/dog</td><td>▁▂▄▆▅▅▃▃▅▆▆▆▆▆▆▆▆▇▆▆█▆█▇▇</td></tr><tr><td>Recall/frog</td><td>▁▃▂▆▆▇▅▄▇▆▆█▇▇▇▇▇▇▇▇▇█▇██</td></tr><tr><td>Recall/horse</td><td>▁▄▆▅▅▆▄▅▆▇▇▇▆███▇█▇█▇▇▇██</td></tr><tr><td>Recall/ship</td><td>▄▄▁▃▆▄▄▅▅▄▇▇▇▇▇▇███▇▇▇█▇▇</td></tr><tr><td>Recall/truck</td><td>▁▃▄▅▁▆▃▆▅▄▆▆▆▆▅▇▇█████▇██</td></tr><tr><td>epoch</td><td>▁▁▂▂▂▂▃▃▃▄▄▄▅▅▅▅▆▆▆▇▇▇▇██</td></tr><tr><td>f1_avg</td><td>▁▂▃▃▄▄▄▅▅▅▆▆▆▇▇▇▇▇▇██████</td></tr><tr><td>precision_avg</td><td>▁▂▃▃▄▄▄▅▅▅▆▆▆▆▇▇▇▇▇██████</td></tr><tr><td>recall_avg</td><td>▁▂▃▃▄▄▄▅▅▅▆▆▆▆▇▇▇▇▇██████</td></tr><tr><td>test_loss</td><td>▅▅▄▃█▃▇▃▂▄▃▂▂▂▂▁▁▁▁▁▁▁▁▁▁</td></tr><tr><td>train_loss</td><td>█▇▆▆▅▅▅▄▄▄▃▃▃▃▃▂▂▂▂▂▁▁▁▁▁</td></tr></table><br/></div><div class=\"wandb-col\"><h3>Run summary:</h3><br/><table class=\"wandb\"><tr><td>F1/airplane</td><td>0.68144</td></tr><tr><td>F1/automobile</td><td>0.76425</td></tr><tr><td>F1/bird</td><td>0.5625</td></tr><tr><td>F1/cat</td><td>0.47859</td></tr><tr><td>F1/deer</td><td>0.61583</td></tr><tr><td>F1/dog</td><td>0.56313</td></tr><tr><td>F1/frog</td><td>0.73648</td></tr><tr><td>F1/horse</td><td>0.70777</td></tr><tr><td>F1/ship</td><td>0.74218</td></tr><tr><td>F1/truck</td><td>0.72368</td></tr><tr><td>Precision/airplane</td><td>0.67119</td></tr><tr><td>Precision/automobile</td><td>0.78564</td></tr><tr><td>Precision/bird</td><td>0.57668</td></tr><tr><td>Precision/cat</td><td>0.45644</td></tr><tr><td>Precision/deer</td><td>0.59515</td></tr><tr><td>Precision/dog</td><td>0.59686</td></tr><tr><td>Precision/frog</td><td>0.72437</td></tr><tr><td>Precision/horse</td><td>0.70955</td></tr><tr><td>Precision/ship</td><td>0.7613</td></tr><tr><td>Precision/truck</td><td>0.71554</td></tr><tr><td>Recall/airplane</td><td>0.692</td></tr><tr><td>Recall/automobile</td><td>0.744</td></tr><tr><td>Recall/bird</td><td>0.549</td></tr><tr><td>Recall/cat</td><td>0.503</td></tr><tr><td>Recall/deer</td><td>0.638</td></tr><tr><td>Recall/dog</td><td>0.533</td></tr><tr><td>Recall/frog</td><td>0.749</td></tr><tr><td>Recall/horse</td><td>0.706</td></tr><tr><td>Recall/ship</td><td>0.724</td></tr><tr><td>Recall/truck</td><td>0.732</td></tr><tr><td>epoch</td><td>25</td></tr><tr><td>f1_avg</td><td>0.65759</td></tr><tr><td>precision_avg</td><td>0.65927</td></tr><tr><td>recall_avg</td><td>0.657</td></tr><tr><td>test_loss</td><td>0.97849</td></tr><tr><td>train_loss</td><td>0.91487</td></tr></table><br/></div></div>"
      ],
      "text/plain": [
       "<IPython.core.display.HTML object>"
      ]
     },
     "metadata": {},
     "output_type": "display_data"
    },
    {
     "data": {
      "text/html": [
       " View run <strong style=\"color:#cdcd00\">efficientnet_b2_teacher</strong> at: <a href='https://wandb.ai/kavesnin-hse/Homework-4/runs/n6gw4abg' target=\"_blank\">https://wandb.ai/kavesnin-hse/Homework-4/runs/n6gw4abg</a><br/> View project at: <a href='https://wandb.ai/kavesnin-hse/Homework-4' target=\"_blank\">https://wandb.ai/kavesnin-hse/Homework-4</a><br/>Synced 4 W&B file(s), 0 media file(s), 0 artifact file(s) and 0 other file(s)"
      ],
      "text/plain": [
       "<IPython.core.display.HTML object>"
      ]
     },
     "metadata": {},
     "output_type": "display_data"
    },
    {
     "data": {
      "text/html": [
       "Find logs at: <code>./wandb/run-20250214_193450-n6gw4abg/logs</code>"
      ],
      "text/plain": [
       "<IPython.core.display.HTML object>"
      ]
     },
     "metadata": {},
     "output_type": "display_data"
    }
   ],
   "source": [
    "wandb.finish()"
   ]
  },
  {
   "cell_type": "code",
   "execution_count": 65,
   "id": "2cf3eef1-ce0a-4fd8-b576-54f63bdc9911",
   "metadata": {},
   "outputs": [
    {
     "data": {
      "text/html": [
       "Finishing last run (ID:67wquu3r) before initializing another..."
      ],
      "text/plain": [
       "<IPython.core.display.HTML object>"
      ]
     },
     "metadata": {},
     "output_type": "display_data"
    },
    {
     "data": {
      "application/vnd.jupyter.widget-view+json": {
       "model_id": "",
       "version_major": 2,
       "version_minor": 0
      },
      "text/plain": [
       "VBox(children=(Label(value='0.008 MB of 0.016 MB uploaded\\r'), FloatProgress(value=0.4772499262319268, max=1.0…"
      ]
     },
     "metadata": {},
     "output_type": "display_data"
    },
    {
     "data": {
      "text/html": [
       " View run <strong style=\"color:#cdcd00\">distill_hidden</strong> at: <a href='https://wandb.ai/kavesnin-hse/Homework-4/runs/67wquu3r' target=\"_blank\">https://wandb.ai/kavesnin-hse/Homework-4/runs/67wquu3r</a><br/> View project at: <a href='https://wandb.ai/kavesnin-hse/Homework-4' target=\"_blank\">https://wandb.ai/kavesnin-hse/Homework-4</a><br/>Synced 4 W&B file(s), 0 media file(s), 0 artifact file(s) and 0 other file(s)"
      ],
      "text/plain": [
       "<IPython.core.display.HTML object>"
      ]
     },
     "metadata": {},
     "output_type": "display_data"
    },
    {
     "data": {
      "text/html": [
       "Find logs at: <code>./wandb/run-20250214_205547-67wquu3r/logs</code>"
      ],
      "text/plain": [
       "<IPython.core.display.HTML object>"
      ]
     },
     "metadata": {},
     "output_type": "display_data"
    },
    {
     "data": {
      "text/html": [
       "Successfully finished last run (ID:67wquu3r). Initializing new run:<br/>"
      ],
      "text/plain": [
       "<IPython.core.display.HTML object>"
      ]
     },
     "metadata": {},
     "output_type": "display_data"
    },
    {
     "data": {
      "text/html": [
       "wandb version 0.19.6 is available!  To upgrade, please run:\n",
       " $ pip install wandb --upgrade"
      ],
      "text/plain": [
       "<IPython.core.display.HTML object>"
      ]
     },
     "metadata": {},
     "output_type": "display_data"
    },
    {
     "data": {
      "text/html": [
       "Tracking run with wandb version 0.16.6"
      ],
      "text/plain": [
       "<IPython.core.display.HTML object>"
      ]
     },
     "metadata": {},
     "output_type": "display_data"
    },
    {
     "data": {
      "text/html": [
       "Run data is saved locally in <code>/kavesnin/research/wandb/run-20250214_205840-89q29dam</code>"
      ],
      "text/plain": [
       "<IPython.core.display.HTML object>"
      ]
     },
     "metadata": {},
     "output_type": "display_data"
    },
    {
     "data": {
      "text/html": [
       "Syncing run <strong><a href='https://wandb.ai/kavesnin-hse/Homework-4/runs/89q29dam' target=\"_blank\">efficientnet_b0_student</a></strong> to <a href='https://wandb.ai/kavesnin-hse/Homework-4' target=\"_blank\">Weights & Biases</a> (<a href='https://wandb.me/run' target=\"_blank\">docs</a>)<br/>"
      ],
      "text/plain": [
       "<IPython.core.display.HTML object>"
      ]
     },
     "metadata": {},
     "output_type": "display_data"
    },
    {
     "data": {
      "text/html": [
       " View project at <a href='https://wandb.ai/kavesnin-hse/Homework-4' target=\"_blank\">https://wandb.ai/kavesnin-hse/Homework-4</a>"
      ],
      "text/plain": [
       "<IPython.core.display.HTML object>"
      ]
     },
     "metadata": {},
     "output_type": "display_data"
    },
    {
     "data": {
      "text/html": [
       " View run at <a href='https://wandb.ai/kavesnin-hse/Homework-4/runs/89q29dam' target=\"_blank\">https://wandb.ai/kavesnin-hse/Homework-4/runs/89q29dam</a>"
      ],
      "text/plain": [
       "<IPython.core.display.HTML object>"
      ]
     },
     "metadata": {},
     "output_type": "display_data"
    },
    {
     "data": {
      "application/vnd.jupyter.widget-view+json": {
       "model_id": "f1c91423a260440b8c92c410ec99942e",
       "version_major": 2,
       "version_minor": 0
      },
      "text/plain": [
       "  0%|          | 0/782 [00:00<?, ?it/s]"
      ]
     },
     "metadata": {},
     "output_type": "display_data"
    },
    {
     "data": {
      "application/vnd.jupyter.widget-view+json": {
       "model_id": "664a0cb2d9e548a2b121c178c04eb7d2",
       "version_major": 2,
       "version_minor": 0
      },
      "text/plain": [
       "  0%|          | 0/782 [00:00<?, ?it/s]"
      ]
     },
     "metadata": {},
     "output_type": "display_data"
    },
    {
     "data": {
      "application/vnd.jupyter.widget-view+json": {
       "model_id": "b9f12da7c5814ca4966f43031d7c2cff",
       "version_major": 2,
       "version_minor": 0
      },
      "text/plain": [
       "  0%|          | 0/782 [00:00<?, ?it/s]"
      ]
     },
     "metadata": {},
     "output_type": "display_data"
    },
    {
     "data": {
      "application/vnd.jupyter.widget-view+json": {
       "model_id": "f63b8270be394e3695b6250cf4ea80af",
       "version_major": 2,
       "version_minor": 0
      },
      "text/plain": [
       "  0%|          | 0/782 [00:00<?, ?it/s]"
      ]
     },
     "metadata": {},
     "output_type": "display_data"
    },
    {
     "data": {
      "application/vnd.jupyter.widget-view+json": {
       "model_id": "3f4a24b145af40d88f5155c2ea5c409a",
       "version_major": 2,
       "version_minor": 0
      },
      "text/plain": [
       "  0%|          | 0/782 [00:00<?, ?it/s]"
      ]
     },
     "metadata": {},
     "output_type": "display_data"
    },
    {
     "data": {
      "application/vnd.jupyter.widget-view+json": {
       "model_id": "9920a5df8dcf4fb9a017a2462002b85d",
       "version_major": 2,
       "version_minor": 0
      },
      "text/plain": [
       "  0%|          | 0/782 [00:00<?, ?it/s]"
      ]
     },
     "metadata": {},
     "output_type": "display_data"
    },
    {
     "data": {
      "application/vnd.jupyter.widget-view+json": {
       "model_id": "d496890c3a4949988a5c9f7ae363e27a",
       "version_major": 2,
       "version_minor": 0
      },
      "text/plain": [
       "  0%|          | 0/782 [00:00<?, ?it/s]"
      ]
     },
     "metadata": {},
     "output_type": "display_data"
    },
    {
     "data": {
      "application/vnd.jupyter.widget-view+json": {
       "model_id": "a242a1a668b94eceb66cc34792646b03",
       "version_major": 2,
       "version_minor": 0
      },
      "text/plain": [
       "  0%|          | 0/782 [00:00<?, ?it/s]"
      ]
     },
     "metadata": {},
     "output_type": "display_data"
    },
    {
     "data": {
      "application/vnd.jupyter.widget-view+json": {
       "model_id": "4e43808fc3b541e49ae7388c8aebe08c",
       "version_major": 2,
       "version_minor": 0
      },
      "text/plain": [
       "  0%|          | 0/782 [00:00<?, ?it/s]"
      ]
     },
     "metadata": {},
     "output_type": "display_data"
    },
    {
     "data": {
      "application/vnd.jupyter.widget-view+json": {
       "model_id": "3d20aaaf408a41c9bfe5cf217be43e07",
       "version_major": 2,
       "version_minor": 0
      },
      "text/plain": [
       "  0%|          | 0/782 [00:00<?, ?it/s]"
      ]
     },
     "metadata": {},
     "output_type": "display_data"
    },
    {
     "data": {
      "application/vnd.jupyter.widget-view+json": {
       "model_id": "",
       "version_major": 2,
       "version_minor": 0
      },
      "text/plain": [
       "VBox(children=(Label(value='0.008 MB of 0.008 MB uploaded\\r'), FloatProgress(value=1.0, max=1.0)))"
      ]
     },
     "metadata": {},
     "output_type": "display_data"
    },
    {
     "data": {
      "text/html": [
       "<style>\n",
       "    table.wandb td:nth-child(1) { padding: 0 10px; text-align: left ; width: auto;} td:nth-child(2) {text-align: left ; width: 100%}\n",
       "    .wandb-row { display: flex; flex-direction: row; flex-wrap: wrap; justify-content: flex-start; width: 100% }\n",
       "    .wandb-col { display: flex; flex-direction: column; flex-basis: 100%; flex: 1; padding: 10px; }\n",
       "    </style>\n",
       "<div class=\"wandb-row\"><div class=\"wandb-col\"><h3>Run history:</h3><br/><table class=\"wandb\"><tr><td>F1/airplane</td><td>▁▁▂▃▆▅█▇█▇</td></tr><tr><td>F1/automobile</td><td>▁▁▆▆▇█████</td></tr><tr><td>F1/bird</td><td>▁▃▆▆▇██▇▇█</td></tr><tr><td>F1/cat</td><td>▄▁▃▇▆▇███▇</td></tr><tr><td>F1/deer</td><td>▁▇▅█▇▆▇▇█▇</td></tr><tr><td>F1/dog</td><td>▁▄▄▅▅▄▅█▆█</td></tr><tr><td>F1/frog</td><td>▁▃▃▄▅▆▇▇██</td></tr><tr><td>F1/horse</td><td>▁▄▅▆▆▇▇█▇█</td></tr><tr><td>F1/ship</td><td>▁▅▅▆▇█▇███</td></tr><tr><td>F1/truck</td><td>▁▄▅▆▆▆▇▇▇█</td></tr><tr><td>Precision/airplane</td><td>▁▂▄▄▆▆▆▆█▇</td></tr><tr><td>Precision/automobile</td><td>▁▆▅▇▇▇▇▇██</td></tr><tr><td>Precision/bird</td><td>▂▁▃▄▆▅▆▇█▆</td></tr><tr><td>Precision/cat</td><td>▁█▄▅█▆▆▇▇▇</td></tr><tr><td>Precision/deer</td><td>▃▁▂▄▃▃▇▅▅█</td></tr><tr><td>Precision/dog</td><td>▁▄▆▆▆█▇▇█▇</td></tr><tr><td>Precision/frog</td><td>▁▃▄▆▆▅▆▇█▇</td></tr><tr><td>Precision/horse</td><td>▁▃▃▆▅▇▇▇▇█</td></tr><tr><td>Precision/ship</td><td>▁▁▆▅▄▇█▇▆▇</td></tr><tr><td>Precision/truck</td><td>▁▃▄▅▅▆██▆▇</td></tr><tr><td>Recall/airplane</td><td>▃▁▁▃▄▃█▆▆▅</td></tr><tr><td>Recall/automobile</td><td>▂▁▇▅▆▇█▇▇▇</td></tr><tr><td>Recall/bird</td><td>▁▃▆▆▆█▇▇▆█</td></tr><tr><td>Recall/cat</td><td>▄▁▂▇▅▇███▇</td></tr><tr><td>Recall/deer</td><td>▁▆▄█▇▆▇▇█▆</td></tr><tr><td>Recall/dog</td><td>▅▆▂▄▅▁▄█▃█</td></tr><tr><td>Recall/frog</td><td>▆▄▄▁▄▇▇▅▆█</td></tr><tr><td>Recall/horse</td><td>▁▅█▆█▇▇███</td></tr><tr><td>Recall/ship</td><td>▁▅▄▆▇▇▆██▇</td></tr><tr><td>Recall/truck</td><td>▁▆▅▇▅▄▅▅█▇</td></tr><tr><td>epoch</td><td>▁▂▃▃▄▅▆▆▇█</td></tr><tr><td>f1_avg</td><td>▁▃▅▆▆▇▇███</td></tr><tr><td>precision_avg</td><td>▁▃▄▆▆▇▇▇██</td></tr><tr><td>recall_avg</td><td>▁▃▄▆▆▇▇███</td></tr><tr><td>test_loss</td><td>█▇▆▇▂▂▁▁▁▁</td></tr><tr><td>train_loss</td><td>█▅▃▃▂▂▂▁▁▁</td></tr></table><br/></div><div class=\"wandb-col\"><h3>Run summary:</h3><br/><table class=\"wandb\"><tr><td>F1/airplane</td><td>0.49483</td></tr><tr><td>F1/automobile</td><td>0.57729</td></tr><tr><td>F1/bird</td><td>0.29774</td></tr><tr><td>F1/cat</td><td>0.32782</td></tr><tr><td>F1/deer</td><td>0.33812</td></tr><tr><td>F1/dog</td><td>0.43397</td></tr><tr><td>F1/frog</td><td>0.54664</td></tr><tr><td>F1/horse</td><td>0.51619</td></tr><tr><td>F1/ship</td><td>0.55035</td></tr><tr><td>F1/truck</td><td>0.5163</td></tr><tr><td>Precision/airplane</td><td>0.54231</td></tr><tr><td>Precision/automobile</td><td>0.57758</td></tr><tr><td>Precision/bird</td><td>0.29849</td></tr><tr><td>Precision/cat</td><td>0.31913</td></tr><tr><td>Precision/deer</td><td>0.44942</td></tr><tr><td>Precision/dog</td><td>0.45005</td></tr><tr><td>Precision/frog</td><td>0.48454</td></tr><tr><td>Precision/horse</td><td>0.49953</td></tr><tr><td>Precision/ship</td><td>0.54871</td></tr><tr><td>Precision/truck</td><td>0.47185</td></tr><tr><td>Recall/airplane</td><td>0.455</td></tr><tr><td>Recall/automobile</td><td>0.577</td></tr><tr><td>Recall/bird</td><td>0.297</td></tr><tr><td>Recall/cat</td><td>0.337</td></tr><tr><td>Recall/deer</td><td>0.271</td></tr><tr><td>Recall/dog</td><td>0.419</td></tr><tr><td>Recall/frog</td><td>0.627</td></tr><tr><td>Recall/horse</td><td>0.534</td></tr><tr><td>Recall/ship</td><td>0.552</td></tr><tr><td>Recall/truck</td><td>0.57</td></tr><tr><td>epoch</td><td>10</td></tr><tr><td>f1_avg</td><td>0.45993</td></tr><tr><td>precision_avg</td><td>0.46416</td></tr><tr><td>recall_avg</td><td>0.4639</td></tr><tr><td>test_loss</td><td>1.49929</td></tr><tr><td>train_loss</td><td>1.47955</td></tr></table><br/></div></div>"
      ],
      "text/plain": [
       "<IPython.core.display.HTML object>"
      ]
     },
     "metadata": {},
     "output_type": "display_data"
    },
    {
     "data": {
      "text/html": [
       " View run <strong style=\"color:#cdcd00\">efficientnet_b0_student</strong> at: <a href='https://wandb.ai/kavesnin-hse/Homework-4/runs/89q29dam' target=\"_blank\">https://wandb.ai/kavesnin-hse/Homework-4/runs/89q29dam</a><br/> View project at: <a href='https://wandb.ai/kavesnin-hse/Homework-4' target=\"_blank\">https://wandb.ai/kavesnin-hse/Homework-4</a><br/>Synced 4 W&B file(s), 0 media file(s), 0 artifact file(s) and 0 other file(s)"
      ],
      "text/plain": [
       "<IPython.core.display.HTML object>"
      ]
     },
     "metadata": {},
     "output_type": "display_data"
    },
    {
     "data": {
      "text/html": [
       "Find logs at: <code>./wandb/run-20250214_205840-89q29dam/logs</code>"
      ],
      "text/plain": [
       "<IPython.core.display.HTML object>"
      ]
     },
     "metadata": {},
     "output_type": "display_data"
    }
   ],
   "source": [
    "wandb.init(\n",
    "    project='Homework-4',\n",
    "    name='efficientnet_b0_student'\n",
    ")\n",
    "model = create_model('efficientnet_b0', pretrained=False, num_classes=10).to(device)\n",
    "optimizer = optim.Adam(model.parameters(), lr=0.001)\n",
    "scheduler = lr_scheduler.StepLR(optimizer, step_size=2, gamma=0.5)\n",
    "num_epochs = 10\n",
    "\n",
    "for i, epoch in enumerate(range(num_epochs)):\n",
    "    train_loss = train(model, train_loader, criterion, optimizer)\n",
    "    test_loss, precision, recall, f1, precision_class, recall_class, f1_class = test(model, test_loader, criterion)\n",
    "\n",
    "    scheduler.step()\n",
    "\n",
    "    log_data = {\n",
    "        'epoch': epoch + 1,\n",
    "        'train_loss': train_loss,\n",
    "        'test_loss': test_loss,\n",
    "        'precision_avg': precision,\n",
    "        'recall_avg': recall,\n",
    "        'f1_avg': f1,\n",
    "    }\n",
    "    \n",
    "    for class_idx, value in enumerate(precision_class):\n",
    "        log_data[f'Precision/{class_labels[class_idx]}'] = value\n",
    "    \n",
    "    for class_idx, value in enumerate(recall_class):\n",
    "        log_data[f'Recall/{class_labels[class_idx]}'] = value\n",
    "    \n",
    "    for class_idx, value in enumerate(f1_class):\n",
    "        log_data[f'F1/{class_labels[class_idx]}'] = value\n",
    "    \n",
    "    wandb.log(log_data)\n",
    "\n",
    "wandb.finish()"
   ]
  },
  {
   "cell_type": "code",
   "execution_count": 24,
   "id": "668d1d6e-16df-4d1c-866f-dae031cf11e2",
   "metadata": {},
   "outputs": [],
   "source": [
    "for param in teacher_model.parameters():\n",
    "    param.requires_grad = False\n",
    "teacher_model.eval()\n",
    "None"
   ]
  },
  {
   "cell_type": "markdown",
   "id": "78da1f38-8501-45aa-9f98-9ca407d00a54",
   "metadata": {},
   "source": [
    "# Дистилляция логитов"
   ]
  },
  {
   "cell_type": "code",
   "execution_count": 25,
   "id": "b3de044b-83ff-40fb-832e-249fc3437841",
   "metadata": {},
   "outputs": [],
   "source": [
    "kl_criterion = nn.KLDivLoss(reduction='batchmean')\n",
    "student_model = create_model('efficientnet_b0', pretrained=False, num_classes=10).to(device)"
   ]
  },
  {
   "cell_type": "code",
   "execution_count": 26,
   "id": "395205b3-bcd2-4d40-a44a-b720a87f09d2",
   "metadata": {},
   "outputs": [],
   "source": [
    "def train_distill_logit(student_model, teacher_model, train_loader, criterion, optimizer):\n",
    "    student_model.train()\n",
    "    running_loss = 0.0\n",
    "    \n",
    "    for inputs, labels in tqdm(train_loader):\n",
    "        inputs, labels = inputs.to(device), labels.to(device)\n",
    "        \n",
    "        optimizer.zero_grad()\n",
    "        \n",
    "        with torch.no_grad():\n",
    "            teacher_outputs = teacher_model(inputs)\n",
    "            teacher_probs = nn.functional.softmax(teacher_outputs, dim=1)\n",
    "        \n",
    "        student_outputs = student_model(inputs)\n",
    "        student_probs = nn.functional.log_softmax(student_outputs, dim=1)\n",
    "        \n",
    "        distillation_loss = kl_criterion(student_probs, teacher_probs)\n",
    "        student_loss = criterion(student_outputs, labels)\n",
    "        loss = 0.5 * distillation_loss + 0.5 * student_loss\n",
    "        \n",
    "        loss.backward()\n",
    "        optimizer.step()\n",
    "        running_loss += loss.item()\n",
    "    \n",
    "    return running_loss / len(train_loader)"
   ]
  },
  {
   "cell_type": "code",
   "execution_count": 27,
   "id": "fd075549-ce75-493e-865c-0cc1b6b3e6e4",
   "metadata": {},
   "outputs": [
    {
     "data": {
      "text/html": [
       "wandb version 0.19.6 is available!  To upgrade, please run:\n",
       " $ pip install wandb --upgrade"
      ],
      "text/plain": [
       "<IPython.core.display.HTML object>"
      ]
     },
     "metadata": {},
     "output_type": "display_data"
    },
    {
     "data": {
      "text/html": [
       "Tracking run with wandb version 0.16.6"
      ],
      "text/plain": [
       "<IPython.core.display.HTML object>"
      ]
     },
     "metadata": {},
     "output_type": "display_data"
    },
    {
     "data": {
      "text/html": [
       "Run data is saved locally in <code>/kavesnin/research/wandb/run-20250214_202436-vuk3yj3g</code>"
      ],
      "text/plain": [
       "<IPython.core.display.HTML object>"
      ]
     },
     "metadata": {},
     "output_type": "display_data"
    },
    {
     "data": {
      "text/html": [
       "Syncing run <strong><a href='https://wandb.ai/kavesnin-hse/Homework-4/runs/vuk3yj3g' target=\"_blank\">distill_logits</a></strong> to <a href='https://wandb.ai/kavesnin-hse/Homework-4' target=\"_blank\">Weights & Biases</a> (<a href='https://wandb.me/run' target=\"_blank\">docs</a>)<br/>"
      ],
      "text/plain": [
       "<IPython.core.display.HTML object>"
      ]
     },
     "metadata": {},
     "output_type": "display_data"
    },
    {
     "data": {
      "text/html": [
       " View project at <a href='https://wandb.ai/kavesnin-hse/Homework-4' target=\"_blank\">https://wandb.ai/kavesnin-hse/Homework-4</a>"
      ],
      "text/plain": [
       "<IPython.core.display.HTML object>"
      ]
     },
     "metadata": {},
     "output_type": "display_data"
    },
    {
     "data": {
      "text/html": [
       " View run at <a href='https://wandb.ai/kavesnin-hse/Homework-4/runs/vuk3yj3g' target=\"_blank\">https://wandb.ai/kavesnin-hse/Homework-4/runs/vuk3yj3g</a>"
      ],
      "text/plain": [
       "<IPython.core.display.HTML object>"
      ]
     },
     "metadata": {},
     "output_type": "display_data"
    },
    {
     "data": {
      "application/vnd.jupyter.widget-view+json": {
       "model_id": "fb35ea5463b94887919813b27a7252e4",
       "version_major": 2,
       "version_minor": 0
      },
      "text/plain": [
       "  0%|          | 0/782 [00:00<?, ?it/s]"
      ]
     },
     "metadata": {},
     "output_type": "display_data"
    },
    {
     "data": {
      "application/vnd.jupyter.widget-view+json": {
       "model_id": "8a41ce56c14549e7b1b0da4bac6ccee6",
       "version_major": 2,
       "version_minor": 0
      },
      "text/plain": [
       "  0%|          | 0/782 [00:00<?, ?it/s]"
      ]
     },
     "metadata": {},
     "output_type": "display_data"
    },
    {
     "data": {
      "application/vnd.jupyter.widget-view+json": {
       "model_id": "9dcef2b58985443582251a24a82e7c30",
       "version_major": 2,
       "version_minor": 0
      },
      "text/plain": [
       "  0%|          | 0/782 [00:00<?, ?it/s]"
      ]
     },
     "metadata": {},
     "output_type": "display_data"
    },
    {
     "data": {
      "application/vnd.jupyter.widget-view+json": {
       "model_id": "a4744173c4524fb8a61713d0b9d2b7a5",
       "version_major": 2,
       "version_minor": 0
      },
      "text/plain": [
       "  0%|          | 0/782 [00:00<?, ?it/s]"
      ]
     },
     "metadata": {},
     "output_type": "display_data"
    },
    {
     "data": {
      "application/vnd.jupyter.widget-view+json": {
       "model_id": "3499427ccde34000b104aedf44a6e2c7",
       "version_major": 2,
       "version_minor": 0
      },
      "text/plain": [
       "  0%|          | 0/782 [00:00<?, ?it/s]"
      ]
     },
     "metadata": {},
     "output_type": "display_data"
    },
    {
     "data": {
      "application/vnd.jupyter.widget-view+json": {
       "model_id": "79f0c8b775774f5a877b980bedf32059",
       "version_major": 2,
       "version_minor": 0
      },
      "text/plain": [
       "  0%|          | 0/782 [00:00<?, ?it/s]"
      ]
     },
     "metadata": {},
     "output_type": "display_data"
    },
    {
     "data": {
      "application/vnd.jupyter.widget-view+json": {
       "model_id": "b29dc93c6faa4178bef06fb8d2f20f22",
       "version_major": 2,
       "version_minor": 0
      },
      "text/plain": [
       "  0%|          | 0/782 [00:00<?, ?it/s]"
      ]
     },
     "metadata": {},
     "output_type": "display_data"
    },
    {
     "data": {
      "application/vnd.jupyter.widget-view+json": {
       "model_id": "82a742fddada46059ecc4d4cf55f0cc3",
       "version_major": 2,
       "version_minor": 0
      },
      "text/plain": [
       "  0%|          | 0/782 [00:00<?, ?it/s]"
      ]
     },
     "metadata": {},
     "output_type": "display_data"
    },
    {
     "data": {
      "application/vnd.jupyter.widget-view+json": {
       "model_id": "9ea7331440594f00a360f2cc103553fd",
       "version_major": 2,
       "version_minor": 0
      },
      "text/plain": [
       "  0%|          | 0/782 [00:00<?, ?it/s]"
      ]
     },
     "metadata": {},
     "output_type": "display_data"
    },
    {
     "data": {
      "application/vnd.jupyter.widget-view+json": {
       "model_id": "662425b65b9b49f89bf4d380112c79d1",
       "version_major": 2,
       "version_minor": 0
      },
      "text/plain": [
       "  0%|          | 0/782 [00:00<?, ?it/s]"
      ]
     },
     "metadata": {},
     "output_type": "display_data"
    },
    {
     "data": {
      "application/vnd.jupyter.widget-view+json": {
       "model_id": "",
       "version_major": 2,
       "version_minor": 0
      },
      "text/plain": [
       "VBox(children=(Label(value='0.008 MB of 0.017 MB uploaded\\r'), FloatProgress(value=0.4760385144429161, max=1.0…"
      ]
     },
     "metadata": {},
     "output_type": "display_data"
    },
    {
     "data": {
      "text/html": [
       "<style>\n",
       "    table.wandb td:nth-child(1) { padding: 0 10px; text-align: left ; width: auto;} td:nth-child(2) {text-align: left ; width: 100%}\n",
       "    .wandb-row { display: flex; flex-direction: row; flex-wrap: wrap; justify-content: flex-start; width: 100% }\n",
       "    .wandb-col { display: flex; flex-direction: column; flex-basis: 100%; flex: 1; padding: 10px; }\n",
       "    </style>\n",
       "<div class=\"wandb-row\"><div class=\"wandb-col\"><h3>Run history:</h3><br/><table class=\"wandb\"><tr><td>F1/airplane</td><td>▁▃▄▄▆▆▅███</td></tr><tr><td>F1/automobile</td><td>▁▃▆▆▆▇████</td></tr><tr><td>F1/bird</td><td>▁▃▅▆▆▆▇███</td></tr><tr><td>F1/cat</td><td>▁▁▅▅▅▇▇▇█▇</td></tr><tr><td>F1/deer</td><td>▆▂▁▄▆▇▇▇▇█</td></tr><tr><td>F1/dog</td><td>▁▆▁▆▇▇▇▇█▇</td></tr><tr><td>F1/frog</td><td>▁▄▅▅▆▆▆███</td></tr><tr><td>F1/horse</td><td>▁▄▅▆▇▇█▇██</td></tr><tr><td>F1/ship</td><td>▁▂▄▅▆▆▇▇██</td></tr><tr><td>F1/truck</td><td>▁▃▅▆▆▅▇█▇█</td></tr><tr><td>Precision/airplane</td><td>▁▃▅▃▅▆█▆▇▆</td></tr><tr><td>Precision/automobile</td><td>▁▄▄▆▇▇████</td></tr><tr><td>Precision/bird</td><td>▁▆▄▆▆▆▇███</td></tr><tr><td>Precision/cat</td><td>▁▂▄▆▆▇▆▇█▇</td></tr><tr><td>Precision/deer</td><td>▁▇▆▆▇▅▅█▅▇</td></tr><tr><td>Precision/dog</td><td>▁▁█▅▆▇██▇█</td></tr><tr><td>Precision/frog</td><td>▁▃▃▃▄▆▇▆██</td></tr><tr><td>Precision/horse</td><td>▁▃▄▅▆▇▇▇██</td></tr><tr><td>Precision/ship</td><td>▁▄▆▅▆▆▆█▇▇</td></tr><tr><td>Precision/truck</td><td>▁▂▃▄▅▆▆▇▇█</td></tr><tr><td>Recall/airplane</td><td>▁▃▃▃▅▅▃█▇▇</td></tr><tr><td>Recall/automobile</td><td>▁▃▆▇▅▇████</td></tr><tr><td>Recall/bird</td><td>▁▂▅▅▆▆▇▇▇█</td></tr><tr><td>Recall/cat</td><td>▃▁▇▄▄████▇</td></tr><tr><td>Recall/deer</td><td>█▁▁▃▄▆▆▅▇▇</td></tr><tr><td>Recall/dog</td><td>▁█▁▅▆▅▆▆▇▆</td></tr><tr><td>Recall/frog</td><td>▁▃▇▇█▅▅█▆▆</td></tr><tr><td>Recall/horse</td><td>▁▅▆▇▇█████</td></tr><tr><td>Recall/ship</td><td>▂▁▁▃▅▆▇▅▇█</td></tr><tr><td>Recall/truck</td><td>▁▅▆▇▇▄█▇▆▇</td></tr><tr><td>epoch</td><td>▁▂▃▃▄▅▆▆▇█</td></tr><tr><td>f1_avg</td><td>▁▃▄▅▆▇▇███</td></tr><tr><td>precision_avg</td><td>▁▄▅▅▆▇▇███</td></tr><tr><td>recall_avg</td><td>▁▃▄▅▆▇▇███</td></tr><tr><td>test_loss</td><td>█▆▅▃▃▂▂▂▁▁</td></tr><tr><td>train_loss</td><td>█▅▄▃▂▂▂▁▁▁</td></tr></table><br/></div><div class=\"wandb-col\"><h3>Run summary:</h3><br/><table class=\"wandb\"><tr><td>F1/airplane</td><td>0.51189</td></tr><tr><td>F1/automobile</td><td>0.5921</td></tr><tr><td>F1/bird</td><td>0.36785</td></tr><tr><td>F1/cat</td><td>0.36299</td></tr><tr><td>F1/deer</td><td>0.42577</td></tr><tr><td>F1/dog</td><td>0.41099</td></tr><tr><td>F1/frog</td><td>0.56291</td></tr><tr><td>F1/horse</td><td>0.54882</td></tr><tr><td>F1/ship</td><td>0.58867</td></tr><tr><td>F1/truck</td><td>0.54089</td></tr><tr><td>Precision/airplane</td><td>0.52998</td></tr><tr><td>Precision/automobile</td><td>0.56494</td></tr><tr><td>Precision/bird</td><td>0.37938</td></tr><tr><td>Precision/cat</td><td>0.32692</td></tr><tr><td>Precision/deer</td><td>0.43936</td></tr><tr><td>Precision/dog</td><td>0.48059</td></tr><tr><td>Precision/frog</td><td>0.56895</td></tr><tr><td>Precision/horse</td><td>0.56448</td></tr><tr><td>Precision/ship</td><td>0.54569</td></tr><tr><td>Precision/truck</td><td>0.5428</td></tr><tr><td>Recall/airplane</td><td>0.495</td></tr><tr><td>Recall/automobile</td><td>0.622</td></tr><tr><td>Recall/bird</td><td>0.357</td></tr><tr><td>Recall/cat</td><td>0.408</td></tr><tr><td>Recall/deer</td><td>0.413</td></tr><tr><td>Recall/dog</td><td>0.359</td></tr><tr><td>Recall/frog</td><td>0.557</td></tr><tr><td>Recall/horse</td><td>0.534</td></tr><tr><td>Recall/ship</td><td>0.639</td></tr><tr><td>Recall/truck</td><td>0.539</td></tr><tr><td>epoch</td><td>10</td></tr><tr><td>f1_avg</td><td>0.49129</td></tr><tr><td>precision_avg</td><td>0.49431</td></tr><tr><td>recall_avg</td><td>0.4923</td></tr><tr><td>test_loss</td><td>1.41458</td></tr><tr><td>train_loss</td><td>0.9846</td></tr></table><br/></div></div>"
      ],
      "text/plain": [
       "<IPython.core.display.HTML object>"
      ]
     },
     "metadata": {},
     "output_type": "display_data"
    },
    {
     "data": {
      "text/html": [
       " View run <strong style=\"color:#cdcd00\">distill_logits</strong> at: <a href='https://wandb.ai/kavesnin-hse/Homework-4/runs/vuk3yj3g' target=\"_blank\">https://wandb.ai/kavesnin-hse/Homework-4/runs/vuk3yj3g</a><br/> View project at: <a href='https://wandb.ai/kavesnin-hse/Homework-4' target=\"_blank\">https://wandb.ai/kavesnin-hse/Homework-4</a><br/>Synced 4 W&B file(s), 0 media file(s), 0 artifact file(s) and 0 other file(s)"
      ],
      "text/plain": [
       "<IPython.core.display.HTML object>"
      ]
     },
     "metadata": {},
     "output_type": "display_data"
    },
    {
     "data": {
      "text/html": [
       "Find logs at: <code>./wandb/run-20250214_202436-vuk3yj3g/logs</code>"
      ],
      "text/plain": [
       "<IPython.core.display.HTML object>"
      ]
     },
     "metadata": {},
     "output_type": "display_data"
    }
   ],
   "source": [
    "wandb.init(project='Homework-4', name='distill_logits')\n",
    "\n",
    "model = student_model\n",
    "optimizer = optim.Adam(model.parameters(), lr=0.001)\n",
    "scheduler = lr_scheduler.StepLR(optimizer, step_size=2, gamma=0.5)\n",
    "num_epochs = 10\n",
    "\n",
    "for i, epoch in enumerate(range(num_epochs)):\n",
    "    train_loss = train_distill_logit(model, teacher_model, train_loader, criterion, optimizer)\n",
    "    test_loss, precision, recall, f1, precision_class, recall_class, f1_class = test(model, test_loader, criterion)\n",
    "\n",
    "    scheduler.step()\n",
    "\n",
    "    log_data = {\n",
    "        'epoch': epoch + 1,\n",
    "        'train_loss': train_loss,\n",
    "        'test_loss': test_loss,\n",
    "        'precision_avg': precision,\n",
    "        'recall_avg': recall,\n",
    "        'f1_avg': f1,\n",
    "    }\n",
    "    \n",
    "    for class_idx, value in enumerate(precision_class):\n",
    "        log_data[f'Precision/{class_labels[class_idx]}'] = value\n",
    "    \n",
    "    for class_idx, value in enumerate(recall_class):\n",
    "        log_data[f'Recall/{class_labels[class_idx]}'] = value\n",
    "    \n",
    "    for class_idx, value in enumerate(f1_class):\n",
    "        log_data[f'F1/{class_labels[class_idx]}'] = value\n",
    "    \n",
    "    wandb.log(log_data)\n",
    "\n",
    "wandb.finish()"
   ]
  },
  {
   "cell_type": "markdown",
   "id": "fa8d8836-af42-438a-99c8-dd808c28e1c4",
   "metadata": {},
   "source": [
    "# Дистилляция скрытых состояний"
   ]
  },
  {
   "cell_type": "code",
   "execution_count": 73,
   "id": "308570b8-e59d-4449-a7d5-8bc142722b31",
   "metadata": {},
   "outputs": [],
   "source": [
    "def get_features(model, x):\n",
    "    features = []\n",
    "    def hook(module, input, output):\n",
    "        features.append(output)\n",
    "    handle = model.global_pool.register_forward_hook(hook)\n",
    "    model(x)\n",
    "    handle.remove()\n",
    "    return features[0]"
   ]
  },
  {
   "cell_type": "code",
   "execution_count": 81,
   "id": "1d2e4ce0-f4c1-40d7-bcef-3f99fa37dd22",
   "metadata": {},
   "outputs": [],
   "source": [
    "class FeatureRegressor(nn.Module):\n",
    "    def __init__(self, in_features, out_features):\n",
    "        super().__init__()\n",
    "        self.regressor = nn.Sequential(\n",
    "            nn.Linear(in_features, out_features),\n",
    "            nn.BatchNorm1d(out_features),\n",
    "            nn.ReLU()\n",
    "        )\n",
    "    \n",
    "    def forward(self, x):\n",
    "        return self.regressor(x)"
   ]
  },
  {
   "cell_type": "code",
   "execution_count": 82,
   "id": "c6b56ee8-c0d0-4fd5-9fb5-7b5ddb61e30a",
   "metadata": {},
   "outputs": [],
   "source": [
    "def train_distill_hidden(student_model, teacher_model, train_loader, criterion, optimizer, regressor, optimizer_regressor):\n",
    "    student_model.train()\n",
    "    running_loss = 0.0\n",
    "    \n",
    "    for inputs, labels in tqdm(train_loader):\n",
    "        inputs, labels = inputs.to(device), labels.to(device)\n",
    "        \n",
    "        optimizer.zero_grad()\n",
    "        \n",
    "        with torch.no_grad():\n",
    "            teacher_features = get_features(teacher_model, inputs)\n",
    "        student_features = get_features(student_model, inputs)\n",
    "\n",
    "        adapted_student_features = regressor(student_features)\n",
    "        \n",
    "        student_outputs = student_model(inputs)\n",
    "        \n",
    "        feature_loss = -cosine_criterion(adapted_student_features, teacher_features).mean()\n",
    "        classification_loss = criterion(student_outputs, labels)\n",
    "        loss = 0.5 * feature_loss + 0.5 * classification_loss\n",
    "        \n",
    "        loss.backward()\n",
    "        optimizer.step()\n",
    "        optimizer_regressor.step()\n",
    "        running_loss += loss.item()\n",
    "    \n",
    "    return running_loss / len(train_loader)"
   ]
  },
  {
   "cell_type": "code",
   "execution_count": 83,
   "id": "4a78615b-caaa-4257-b7b7-8d2b0144c303",
   "metadata": {},
   "outputs": [],
   "source": [
    "student_model = create_model('efficientnet_b0', pretrained=False, num_classes=10).to(device)\n",
    "regressor = FeatureRegressor(1280, 1408).to(device)\n",
    "optimizer_regressor = optim.Adam(regressor.parameters(), lr=0.001)\n",
    "cosine_criterion = nn.CosineSimilarity(dim=1)"
   ]
  },
  {
   "cell_type": "code",
   "execution_count": 84,
   "id": "b52213c8-4374-4ca8-bd9b-680bccb39834",
   "metadata": {},
   "outputs": [
    {
     "data": {
      "text/html": [
       "Finishing last run (ID:yr1qflt9) before initializing another..."
      ],
      "text/plain": [
       "<IPython.core.display.HTML object>"
      ]
     },
     "metadata": {},
     "output_type": "display_data"
    },
    {
     "data": {
      "application/vnd.jupyter.widget-view+json": {
       "model_id": "",
       "version_major": 2,
       "version_minor": 0
      },
      "text/plain": [
       "VBox(children=(Label(value='0.008 MB of 0.016 MB uploaded\\r'), FloatProgress(value=0.4776453934174826, max=1.0…"
      ]
     },
     "metadata": {},
     "output_type": "display_data"
    },
    {
     "data": {
      "text/html": [
       " View run <strong style=\"color:#cdcd00\">distill_hidden</strong> at: <a href='https://wandb.ai/kavesnin-hse/Homework-4/runs/yr1qflt9' target=\"_blank\">https://wandb.ai/kavesnin-hse/Homework-4/runs/yr1qflt9</a><br/> View project at: <a href='https://wandb.ai/kavesnin-hse/Homework-4' target=\"_blank\">https://wandb.ai/kavesnin-hse/Homework-4</a><br/>Synced 4 W&B file(s), 0 media file(s), 0 artifact file(s) and 0 other file(s)"
      ],
      "text/plain": [
       "<IPython.core.display.HTML object>"
      ]
     },
     "metadata": {},
     "output_type": "display_data"
    },
    {
     "data": {
      "text/html": [
       "Find logs at: <code>./wandb/run-20250214_212603-yr1qflt9/logs</code>"
      ],
      "text/plain": [
       "<IPython.core.display.HTML object>"
      ]
     },
     "metadata": {},
     "output_type": "display_data"
    },
    {
     "data": {
      "text/html": [
       "Successfully finished last run (ID:yr1qflt9). Initializing new run:<br/>"
      ],
      "text/plain": [
       "<IPython.core.display.HTML object>"
      ]
     },
     "metadata": {},
     "output_type": "display_data"
    },
    {
     "data": {
      "text/html": [
       "wandb version 0.19.6 is available!  To upgrade, please run:\n",
       " $ pip install wandb --upgrade"
      ],
      "text/plain": [
       "<IPython.core.display.HTML object>"
      ]
     },
     "metadata": {},
     "output_type": "display_data"
    },
    {
     "data": {
      "text/html": [
       "Tracking run with wandb version 0.16.6"
      ],
      "text/plain": [
       "<IPython.core.display.HTML object>"
      ]
     },
     "metadata": {},
     "output_type": "display_data"
    },
    {
     "data": {
      "text/html": [
       "Run data is saved locally in <code>/kavesnin/research/wandb/run-20250214_212658-dqtkzl0b</code>"
      ],
      "text/plain": [
       "<IPython.core.display.HTML object>"
      ]
     },
     "metadata": {},
     "output_type": "display_data"
    },
    {
     "data": {
      "text/html": [
       "Syncing run <strong><a href='https://wandb.ai/kavesnin-hse/Homework-4/runs/dqtkzl0b' target=\"_blank\">distill_hidden</a></strong> to <a href='https://wandb.ai/kavesnin-hse/Homework-4' target=\"_blank\">Weights & Biases</a> (<a href='https://wandb.me/run' target=\"_blank\">docs</a>)<br/>"
      ],
      "text/plain": [
       "<IPython.core.display.HTML object>"
      ]
     },
     "metadata": {},
     "output_type": "display_data"
    },
    {
     "data": {
      "text/html": [
       " View project at <a href='https://wandb.ai/kavesnin-hse/Homework-4' target=\"_blank\">https://wandb.ai/kavesnin-hse/Homework-4</a>"
      ],
      "text/plain": [
       "<IPython.core.display.HTML object>"
      ]
     },
     "metadata": {},
     "output_type": "display_data"
    },
    {
     "data": {
      "text/html": [
       " View run at <a href='https://wandb.ai/kavesnin-hse/Homework-4/runs/dqtkzl0b' target=\"_blank\">https://wandb.ai/kavesnin-hse/Homework-4/runs/dqtkzl0b</a>"
      ],
      "text/plain": [
       "<IPython.core.display.HTML object>"
      ]
     },
     "metadata": {},
     "output_type": "display_data"
    },
    {
     "data": {
      "application/vnd.jupyter.widget-view+json": {
       "model_id": "8259eea677894b64ba21bc14c83b65e9",
       "version_major": 2,
       "version_minor": 0
      },
      "text/plain": [
       "  0%|          | 0/782 [00:00<?, ?it/s]"
      ]
     },
     "metadata": {},
     "output_type": "display_data"
    },
    {
     "data": {
      "application/vnd.jupyter.widget-view+json": {
       "model_id": "2ac583f2e38d4460a64364313cd04b87",
       "version_major": 2,
       "version_minor": 0
      },
      "text/plain": [
       "  0%|          | 0/782 [00:00<?, ?it/s]"
      ]
     },
     "metadata": {},
     "output_type": "display_data"
    },
    {
     "data": {
      "application/vnd.jupyter.widget-view+json": {
       "model_id": "e44954735d5c448a8bb39e39b0c6d380",
       "version_major": 2,
       "version_minor": 0
      },
      "text/plain": [
       "  0%|          | 0/782 [00:00<?, ?it/s]"
      ]
     },
     "metadata": {},
     "output_type": "display_data"
    },
    {
     "data": {
      "application/vnd.jupyter.widget-view+json": {
       "model_id": "441e95d3a726492e90c95b80c677942a",
       "version_major": 2,
       "version_minor": 0
      },
      "text/plain": [
       "  0%|          | 0/782 [00:00<?, ?it/s]"
      ]
     },
     "metadata": {},
     "output_type": "display_data"
    },
    {
     "data": {
      "application/vnd.jupyter.widget-view+json": {
       "model_id": "be42e4d1d40a4f6798d291d98c0daf0c",
       "version_major": 2,
       "version_minor": 0
      },
      "text/plain": [
       "  0%|          | 0/782 [00:00<?, ?it/s]"
      ]
     },
     "metadata": {},
     "output_type": "display_data"
    },
    {
     "data": {
      "application/vnd.jupyter.widget-view+json": {
       "model_id": "eaf13f4024fc47869985e92507863d9d",
       "version_major": 2,
       "version_minor": 0
      },
      "text/plain": [
       "  0%|          | 0/782 [00:00<?, ?it/s]"
      ]
     },
     "metadata": {},
     "output_type": "display_data"
    },
    {
     "data": {
      "application/vnd.jupyter.widget-view+json": {
       "model_id": "12663dcd2b014367824bc7295a746cf2",
       "version_major": 2,
       "version_minor": 0
      },
      "text/plain": [
       "  0%|          | 0/782 [00:00<?, ?it/s]"
      ]
     },
     "metadata": {},
     "output_type": "display_data"
    },
    {
     "data": {
      "application/vnd.jupyter.widget-view+json": {
       "model_id": "bd7604dd4eeb45cdb27d78626ef37447",
       "version_major": 2,
       "version_minor": 0
      },
      "text/plain": [
       "  0%|          | 0/782 [00:00<?, ?it/s]"
      ]
     },
     "metadata": {},
     "output_type": "display_data"
    },
    {
     "data": {
      "application/vnd.jupyter.widget-view+json": {
       "model_id": "27a76571e54d49f9a8bc175eda187b2d",
       "version_major": 2,
       "version_minor": 0
      },
      "text/plain": [
       "  0%|          | 0/782 [00:00<?, ?it/s]"
      ]
     },
     "metadata": {},
     "output_type": "display_data"
    },
    {
     "data": {
      "application/vnd.jupyter.widget-view+json": {
       "model_id": "9113580c10d9405caed98e60ed9b007d",
       "version_major": 2,
       "version_minor": 0
      },
      "text/plain": [
       "  0%|          | 0/782 [00:00<?, ?it/s]"
      ]
     },
     "metadata": {},
     "output_type": "display_data"
    },
    {
     "data": {
      "application/vnd.jupyter.widget-view+json": {
       "model_id": "",
       "version_major": 2,
       "version_minor": 0
      },
      "text/plain": [
       "VBox(children=(Label(value='0.008 MB of 0.017 MB uploaded\\r'), FloatProgress(value=0.4463183421516755, max=1.0…"
      ]
     },
     "metadata": {},
     "output_type": "display_data"
    },
    {
     "data": {
      "text/html": [
       "<style>\n",
       "    table.wandb td:nth-child(1) { padding: 0 10px; text-align: left ; width: auto;} td:nth-child(2) {text-align: left ; width: 100%}\n",
       "    .wandb-row { display: flex; flex-direction: row; flex-wrap: wrap; justify-content: flex-start; width: 100% }\n",
       "    .wandb-col { display: flex; flex-direction: column; flex-basis: 100%; flex: 1; padding: 10px; }\n",
       "    </style>\n",
       "<div class=\"wandb-row\"><div class=\"wandb-col\"><h3>Run history:</h3><br/><table class=\"wandb\"><tr><td>F1/airplane</td><td>▃▁▅▆▆▇▇▇▇█</td></tr><tr><td>F1/automobile</td><td>▁▄▅▅▇▇▇█▇█</td></tr><tr><td>F1/bird</td><td>▂▂▁▆▇▆███▇</td></tr><tr><td>F1/cat</td><td>▅▁▃▆▇▅████</td></tr><tr><td>F1/deer</td><td>▁▅█▆▄▇▇███</td></tr><tr><td>F1/dog</td><td>▁▅▆▇▇█▆▇▇▇</td></tr><tr><td>F1/frog</td><td>▃▁▂▅▆▆▇▇▇█</td></tr><tr><td>F1/horse</td><td>▁▄▅▆▇▇████</td></tr><tr><td>F1/ship</td><td>▁▄▂▆▅▅▇▇██</td></tr><tr><td>F1/truck</td><td>▁▂▃▅▅▆▇▆▇█</td></tr><tr><td>Precision/airplane</td><td>▁▅▃▄▆▅▆▆█▇</td></tr><tr><td>Precision/automobile</td><td>▁▃▃▆▆▅▆▆▇█</td></tr><tr><td>Precision/bird</td><td>▂▁▆▅▅▆████</td></tr><tr><td>Precision/cat</td><td>▁▇▂▅▆█▆▇▇▇</td></tr><tr><td>Precision/deer</td><td>▁▃▁▂▃▇█▅▅▅</td></tr><tr><td>Precision/dog</td><td>▁▁▂▄▆▄█▇█▇</td></tr><tr><td>Precision/frog</td><td>▁▅▇▄▄▅▅▆▆█</td></tr><tr><td>Precision/horse</td><td>▁▁▄▆▆███▇▇</td></tr><tr><td>Precision/ship</td><td>▁▂▄▄▅▆▅▆▅█</td></tr><tr><td>Precision/truck</td><td>▁▂▂▄▇▆▆█▇▇</td></tr><tr><td>Recall/airplane</td><td>▅▁▆▆▆██▇▆█</td></tr><tr><td>Recall/automobile</td><td>▁▂▇▁▆█▆█▆▄</td></tr><tr><td>Recall/bird</td><td>▂▁▁▅▇▆██▇▇</td></tr><tr><td>Recall/cat</td><td>█▁▃▅▇▃█▇▇█</td></tr><tr><td>Recall/deer</td><td>▁▄█▅▃▄▄▅▆▆</td></tr><tr><td>Recall/dog</td><td>▁█▇▆▅█▃▅▄▄</td></tr><tr><td>Recall/frog</td><td>▅▁▁▅▇▇▇█▇▇</td></tr><tr><td>Recall/horse</td><td>▁▇▅▆▇▆▇▇██</td></tr><tr><td>Recall/ship</td><td>▁▅▁▅▄▄▇▆█▆</td></tr><tr><td>Recall/truck</td><td>▁▂▄▆▄▅▆▄▆█</td></tr><tr><td>epoch</td><td>▁▂▃▃▄▅▆▆▇█</td></tr><tr><td>f1_avg</td><td>▁▂▃▆▆▆▇███</td></tr><tr><td>precision_avg</td><td>▁▃▄▅▆▆▇▇██</td></tr><tr><td>recall_avg</td><td>▁▂▄▅▆▇▇▇██</td></tr><tr><td>test_loss</td><td>███▄▃▃▂▁▁▁</td></tr><tr><td>train_loss</td><td>█▅▄▃▂▂▂▁▁▁</td></tr></table><br/></div><div class=\"wandb-col\"><h3>Run summary:</h3><br/><table class=\"wandb\"><tr><td>F1/airplane</td><td>0.52459</td></tr><tr><td>F1/automobile</td><td>0.57886</td></tr><tr><td>F1/bird</td><td>0.3099</td></tr><tr><td>F1/cat</td><td>0.37291</td></tr><tr><td>F1/deer</td><td>0.36203</td></tr><tr><td>F1/dog</td><td>0.36137</td></tr><tr><td>F1/frog</td><td>0.54255</td></tr><tr><td>F1/horse</td><td>0.52981</td></tr><tr><td>F1/ship</td><td>0.57254</td></tr><tr><td>F1/truck</td><td>0.55464</td></tr><tr><td>Precision/airplane</td><td>0.53782</td></tr><tr><td>Precision/automobile</td><td>0.63195</td></tr><tr><td>Precision/bird</td><td>0.31823</td></tr><tr><td>Precision/cat</td><td>0.33281</td></tr><tr><td>Precision/deer</td><td>0.44109</td></tr><tr><td>Precision/dog</td><td>0.47934</td></tr><tr><td>Precision/frog</td><td>0.48726</td></tr><tr><td>Precision/horse</td><td>0.48622</td></tr><tr><td>Precision/ship</td><td>0.64773</td></tr><tr><td>Precision/truck</td><td>0.47071</td></tr><tr><td>Recall/airplane</td><td>0.512</td></tr><tr><td>Recall/automobile</td><td>0.534</td></tr><tr><td>Recall/bird</td><td>0.302</td></tr><tr><td>Recall/cat</td><td>0.424</td></tr><tr><td>Recall/deer</td><td>0.307</td></tr><tr><td>Recall/dog</td><td>0.29</td></tr><tr><td>Recall/frog</td><td>0.612</td></tr><tr><td>Recall/horse</td><td>0.582</td></tr><tr><td>Recall/ship</td><td>0.513</td></tr><tr><td>Recall/truck</td><td>0.675</td></tr><tr><td>epoch</td><td>10</td></tr><tr><td>f1_avg</td><td>0.47092</td></tr><tr><td>precision_avg</td><td>0.48332</td></tr><tr><td>recall_avg</td><td>0.4751</td></tr><tr><td>test_loss</td><td>1.45452</td></tr><tr><td>train_loss</td><td>0.45015</td></tr></table><br/></div></div>"
      ],
      "text/plain": [
       "<IPython.core.display.HTML object>"
      ]
     },
     "metadata": {},
     "output_type": "display_data"
    },
    {
     "data": {
      "text/html": [
       " View run <strong style=\"color:#cdcd00\">distill_hidden</strong> at: <a href='https://wandb.ai/kavesnin-hse/Homework-4/runs/dqtkzl0b' target=\"_blank\">https://wandb.ai/kavesnin-hse/Homework-4/runs/dqtkzl0b</a><br/> View project at: <a href='https://wandb.ai/kavesnin-hse/Homework-4' target=\"_blank\">https://wandb.ai/kavesnin-hse/Homework-4</a><br/>Synced 4 W&B file(s), 0 media file(s), 0 artifact file(s) and 0 other file(s)"
      ],
      "text/plain": [
       "<IPython.core.display.HTML object>"
      ]
     },
     "metadata": {},
     "output_type": "display_data"
    },
    {
     "data": {
      "text/html": [
       "Find logs at: <code>./wandb/run-20250214_212658-dqtkzl0b/logs</code>"
      ],
      "text/plain": [
       "<IPython.core.display.HTML object>"
      ]
     },
     "metadata": {},
     "output_type": "display_data"
    }
   ],
   "source": [
    "wandb.init(project='Homework-4', name='distill_hidden')\n",
    "\n",
    "model = student_model\n",
    "optimizer = optim.Adam(model.parameters(), lr=0.001)\n",
    "scheduler = lr_scheduler.StepLR(optimizer, step_size=2, gamma=0.5)\n",
    "num_epochs = 10\n",
    "\n",
    "for i, epoch in enumerate(range(num_epochs)):\n",
    "    train_loss = train_distill_hidden(model, teacher_model, train_loader, criterion, optimizer, regressor, optimizer_regressor)\n",
    "    test_loss, precision, recall, f1, precision_class, recall_class, f1_class = test(model, test_loader, criterion)\n",
    "\n",
    "    scheduler.step()\n",
    "\n",
    "    log_data = {\n",
    "        'epoch': epoch + 1,\n",
    "        'train_loss': train_loss,\n",
    "        'test_loss': test_loss,\n",
    "        'precision_avg': precision,\n",
    "        'recall_avg': recall,\n",
    "        'f1_avg': f1,\n",
    "    }\n",
    "    \n",
    "    for class_idx, value in enumerate(precision_class):\n",
    "        log_data[f'Precision/{class_labels[class_idx]}'] = value\n",
    "    \n",
    "    for class_idx, value in enumerate(recall_class):\n",
    "        log_data[f'Recall/{class_labels[class_idx]}'] = value\n",
    "    \n",
    "    for class_idx, value in enumerate(f1_class):\n",
    "        log_data[f'F1/{class_labels[class_idx]}'] = value\n",
    "    \n",
    "    wandb.log(log_data)\n",
    "\n",
    "wandb.finish()"
   ]
  },
  {
   "cell_type": "code",
   "execution_count": 32,
   "id": "a21542e5-50e2-404c-bcc6-6b0c034eeee6",
   "metadata": {},
   "outputs": [
    {
     "data": {
      "application/vnd.jupyter.widget-view+json": {
       "model_id": "",
       "version_major": 2,
       "version_minor": 0
      },
      "text/plain": [
       "VBox(children=(Label(value='0.008 MB of 0.008 MB uploaded\\r'), FloatProgress(value=0.9392258809936453, max=1.0…"
      ]
     },
     "metadata": {},
     "output_type": "display_data"
    },
    {
     "data": {
      "text/html": [
       " View run <strong style=\"color:#cdcd00\">distill_hidden</strong> at: <a href='https://wandb.ai/kavesnin-hse/Homework-4/runs/gs1eiqrq' target=\"_blank\">https://wandb.ai/kavesnin-hse/Homework-4/runs/gs1eiqrq</a><br/> View project at: <a href='https://wandb.ai/kavesnin-hse/Homework-4' target=\"_blank\">https://wandb.ai/kavesnin-hse/Homework-4</a><br/>Synced 4 W&B file(s), 0 media file(s), 0 artifact file(s) and 0 other file(s)"
      ],
      "text/plain": [
       "<IPython.core.display.HTML object>"
      ]
     },
     "metadata": {},
     "output_type": "display_data"
    },
    {
     "data": {
      "text/html": [
       "Find logs at: <code>./wandb/run-20250214_203655-gs1eiqrq/logs</code>"
      ],
      "text/plain": [
       "<IPython.core.display.HTML object>"
      ]
     },
     "metadata": {},
     "output_type": "display_data"
    }
   ],
   "source": [
    "wandb.finish()"
   ]
  },
  {
   "cell_type": "markdown",
   "id": "1150f914-32e7-4c7b-90d9-eb916a784518",
   "metadata": {},
   "source": [
    "# Дистилляция с регрессором"
   ]
  },
  {
   "cell_type": "code",
   "execution_count": 66,
   "id": "ecbe2f04-08c1-43a6-a55f-88f2734ccc40",
   "metadata": {},
   "outputs": [],
   "source": [
    "class FeatureRegressor(nn.Module):\n",
    "    def __init__(self, in_features, out_features):\n",
    "        super().__init__()\n",
    "        self.regressor = nn.Sequential(\n",
    "            nn.Conv2d(in_features, out_features, kernel_size=1),\n",
    "            nn.BatchNorm2d(out_features),\n",
    "            nn.ReLU()\n",
    "        )\n",
    "    \n",
    "    def forward(self, x):\n",
    "        return self.regressor(x)"
   ]
  },
  {
   "cell_type": "code",
   "execution_count": 67,
   "id": "e5372f1e-2e0b-4077-9691-9bc8cf60f749",
   "metadata": {},
   "outputs": [],
   "source": [
    "def get_features(model, x):\n",
    "    features = []\n",
    "    def hook(module, input, output):\n",
    "        features.append(output)\n",
    "    handle = model.conv_head.register_forward_hook(hook)\n",
    "    model(x)\n",
    "    handle.remove()\n",
    "    return features[0]"
   ]
  },
  {
   "cell_type": "code",
   "execution_count": 69,
   "id": "41ec93da-8ba1-4406-8437-5bf034a02ccb",
   "metadata": {},
   "outputs": [],
   "source": [
    "def train_distill_regressor(\n",
    "    student_model, teacher_model, train_loader, criterion, optimizer, regressor, optimizer_regressor\n",
    "):\n",
    "    student_model.train()\n",
    "    running_loss = 0.0\n",
    "    \n",
    "    for inputs, labels in tqdm(train_loader):\n",
    "        inputs, labels = inputs.to(device), labels.to(device)\n",
    "        \n",
    "        optimizer.zero_grad()\n",
    "        optimizer_regressor.zero_grad()\n",
    "        \n",
    "        with torch.no_grad():\n",
    "            teacher_features = get_features(teacher_model, inputs)\n",
    "        student_features = get_features(student_model, inputs)\n",
    "        \n",
    "        adapted_student_features = regressor(student_features)\n",
    "        \n",
    "        student_outputs = student_model(inputs)\n",
    "        \n",
    "        feature_loss = mse_criterion(adapted_student_features, teacher_features)\n",
    "        classification_loss = criterion(student_outputs, labels)\n",
    "        loss = 0.1 * feature_loss + 0.9 * classification_loss\n",
    "        \n",
    "        loss.backward()\n",
    "        optimizer.step()\n",
    "        optimizer_regressor.step()\n",
    "        \n",
    "        running_loss += loss.item()\n",
    "    \n",
    "    return running_loss / len(train_loader)"
   ]
  },
  {
   "cell_type": "code",
   "execution_count": 70,
   "id": "0127c7fa-e4c7-4fce-901e-eb10ae704cc8",
   "metadata": {},
   "outputs": [],
   "source": [
    "student_model = create_model('efficientnet_b0', pretrained=False, num_classes=10).to(device)\n",
    "regressor = FeatureRegressor(1280, 1408).to(device)\n",
    "optimizer_regressor = optim.Adam(regressor.parameters(), lr=0.001)\n",
    "mse_criterion = nn.MSELoss()"
   ]
  },
  {
   "cell_type": "code",
   "execution_count": 72,
   "id": "f0feb4e8-e4bc-46b9-b0c5-e7377323f9fa",
   "metadata": {},
   "outputs": [
    {
     "data": {
      "text/html": [
       "Finishing last run (ID:g9lajyj7) before initializing another..."
      ],
      "text/plain": [
       "<IPython.core.display.HTML object>"
      ]
     },
     "metadata": {},
     "output_type": "display_data"
    },
    {
     "data": {
      "application/vnd.jupyter.widget-view+json": {
       "model_id": "",
       "version_major": 2,
       "version_minor": 0
      },
      "text/plain": [
       "VBox(children=(Label(value='0.016 MB of 0.016 MB uploaded\\r'), FloatProgress(value=1.0, max=1.0)))"
      ]
     },
     "metadata": {},
     "output_type": "display_data"
    },
    {
     "data": {
      "text/html": [
       " View run <strong style=\"color:#cdcd00\">distill_regressor</strong> at: <a href='https://wandb.ai/kavesnin-hse/Homework-4/runs/g9lajyj7' target=\"_blank\">https://wandb.ai/kavesnin-hse/Homework-4/runs/g9lajyj7</a><br/> View project at: <a href='https://wandb.ai/kavesnin-hse/Homework-4' target=\"_blank\">https://wandb.ai/kavesnin-hse/Homework-4</a><br/>Synced 4 W&B file(s), 0 media file(s), 0 artifact file(s) and 0 other file(s)"
      ],
      "text/plain": [
       "<IPython.core.display.HTML object>"
      ]
     },
     "metadata": {},
     "output_type": "display_data"
    },
    {
     "data": {
      "text/html": [
       "Find logs at: <code>./wandb/run-20250214_210732-g9lajyj7/logs</code>"
      ],
      "text/plain": [
       "<IPython.core.display.HTML object>"
      ]
     },
     "metadata": {},
     "output_type": "display_data"
    },
    {
     "data": {
      "text/html": [
       "Successfully finished last run (ID:g9lajyj7). Initializing new run:<br/>"
      ],
      "text/plain": [
       "<IPython.core.display.HTML object>"
      ]
     },
     "metadata": {},
     "output_type": "display_data"
    },
    {
     "data": {
      "text/html": [
       "wandb version 0.19.6 is available!  To upgrade, please run:\n",
       " $ pip install wandb --upgrade"
      ],
      "text/plain": [
       "<IPython.core.display.HTML object>"
      ]
     },
     "metadata": {},
     "output_type": "display_data"
    },
    {
     "data": {
      "text/html": [
       "Tracking run with wandb version 0.16.6"
      ],
      "text/plain": [
       "<IPython.core.display.HTML object>"
      ]
     },
     "metadata": {},
     "output_type": "display_data"
    },
    {
     "data": {
      "text/html": [
       "Run data is saved locally in <code>/kavesnin/research/wandb/run-20250214_210748-y6l0k56k</code>"
      ],
      "text/plain": [
       "<IPython.core.display.HTML object>"
      ]
     },
     "metadata": {},
     "output_type": "display_data"
    },
    {
     "data": {
      "text/html": [
       "Syncing run <strong><a href='https://wandb.ai/kavesnin-hse/Homework-4/runs/y6l0k56k' target=\"_blank\">distill_regressor_0.1</a></strong> to <a href='https://wandb.ai/kavesnin-hse/Homework-4' target=\"_blank\">Weights & Biases</a> (<a href='https://wandb.me/run' target=\"_blank\">docs</a>)<br/>"
      ],
      "text/plain": [
       "<IPython.core.display.HTML object>"
      ]
     },
     "metadata": {},
     "output_type": "display_data"
    },
    {
     "data": {
      "text/html": [
       " View project at <a href='https://wandb.ai/kavesnin-hse/Homework-4' target=\"_blank\">https://wandb.ai/kavesnin-hse/Homework-4</a>"
      ],
      "text/plain": [
       "<IPython.core.display.HTML object>"
      ]
     },
     "metadata": {},
     "output_type": "display_data"
    },
    {
     "data": {
      "text/html": [
       " View run at <a href='https://wandb.ai/kavesnin-hse/Homework-4/runs/y6l0k56k' target=\"_blank\">https://wandb.ai/kavesnin-hse/Homework-4/runs/y6l0k56k</a>"
      ],
      "text/plain": [
       "<IPython.core.display.HTML object>"
      ]
     },
     "metadata": {},
     "output_type": "display_data"
    },
    {
     "data": {
      "application/vnd.jupyter.widget-view+json": {
       "model_id": "1495ce6167aa44599decbd4783b37140",
       "version_major": 2,
       "version_minor": 0
      },
      "text/plain": [
       "  0%|          | 0/782 [00:00<?, ?it/s]"
      ]
     },
     "metadata": {},
     "output_type": "display_data"
    },
    {
     "data": {
      "application/vnd.jupyter.widget-view+json": {
       "model_id": "09c7e57297f94aa995405a237667f19d",
       "version_major": 2,
       "version_minor": 0
      },
      "text/plain": [
       "  0%|          | 0/782 [00:00<?, ?it/s]"
      ]
     },
     "metadata": {},
     "output_type": "display_data"
    },
    {
     "data": {
      "application/vnd.jupyter.widget-view+json": {
       "model_id": "94df784f4c3c4d059d0d4fdf0bbdcfe9",
       "version_major": 2,
       "version_minor": 0
      },
      "text/plain": [
       "  0%|          | 0/782 [00:00<?, ?it/s]"
      ]
     },
     "metadata": {},
     "output_type": "display_data"
    },
    {
     "data": {
      "application/vnd.jupyter.widget-view+json": {
       "model_id": "43277a0baa4a4cc3bf31b12c3f466eba",
       "version_major": 2,
       "version_minor": 0
      },
      "text/plain": [
       "  0%|          | 0/782 [00:00<?, ?it/s]"
      ]
     },
     "metadata": {},
     "output_type": "display_data"
    },
    {
     "data": {
      "application/vnd.jupyter.widget-view+json": {
       "model_id": "706b24d8c3fd4e2ab7c56542460b2fb4",
       "version_major": 2,
       "version_minor": 0
      },
      "text/plain": [
       "  0%|          | 0/782 [00:00<?, ?it/s]"
      ]
     },
     "metadata": {},
     "output_type": "display_data"
    },
    {
     "data": {
      "application/vnd.jupyter.widget-view+json": {
       "model_id": "0c98baebbe5346b2a6e2f82041990a91",
       "version_major": 2,
       "version_minor": 0
      },
      "text/plain": [
       "  0%|          | 0/782 [00:00<?, ?it/s]"
      ]
     },
     "metadata": {},
     "output_type": "display_data"
    },
    {
     "data": {
      "application/vnd.jupyter.widget-view+json": {
       "model_id": "bc2885a339554ac0a9468f89cc298416",
       "version_major": 2,
       "version_minor": 0
      },
      "text/plain": [
       "  0%|          | 0/782 [00:00<?, ?it/s]"
      ]
     },
     "metadata": {},
     "output_type": "display_data"
    },
    {
     "data": {
      "application/vnd.jupyter.widget-view+json": {
       "model_id": "cba32766f4f2406298b979e69d24e8ce",
       "version_major": 2,
       "version_minor": 0
      },
      "text/plain": [
       "  0%|          | 0/782 [00:00<?, ?it/s]"
      ]
     },
     "metadata": {},
     "output_type": "display_data"
    },
    {
     "data": {
      "application/vnd.jupyter.widget-view+json": {
       "model_id": "0b32c9066f7449a5aca17955e9284e74",
       "version_major": 2,
       "version_minor": 0
      },
      "text/plain": [
       "  0%|          | 0/782 [00:00<?, ?it/s]"
      ]
     },
     "metadata": {},
     "output_type": "display_data"
    },
    {
     "data": {
      "application/vnd.jupyter.widget-view+json": {
       "model_id": "b64a65ab588d45a68dc4f10f0c017d67",
       "version_major": 2,
       "version_minor": 0
      },
      "text/plain": [
       "  0%|          | 0/782 [00:00<?, ?it/s]"
      ]
     },
     "metadata": {},
     "output_type": "display_data"
    },
    {
     "data": {
      "application/vnd.jupyter.widget-view+json": {
       "model_id": "",
       "version_major": 2,
       "version_minor": 0
      },
      "text/plain": [
       "VBox(children=(Label(value='0.008 MB of 0.008 MB uploaded\\r'), FloatProgress(value=1.0, max=1.0)))"
      ]
     },
     "metadata": {},
     "output_type": "display_data"
    },
    {
     "data": {
      "text/html": [
       "<style>\n",
       "    table.wandb td:nth-child(1) { padding: 0 10px; text-align: left ; width: auto;} td:nth-child(2) {text-align: left ; width: 100%}\n",
       "    .wandb-row { display: flex; flex-direction: row; flex-wrap: wrap; justify-content: flex-start; width: 100% }\n",
       "    .wandb-col { display: flex; flex-direction: column; flex-basis: 100%; flex: 1; padding: 10px; }\n",
       "    </style>\n",
       "<div class=\"wandb-row\"><div class=\"wandb-col\"><h3>Run history:</h3><br/><table class=\"wandb\"><tr><td>F1/airplane</td><td>▅▁▂▄▃▆▅▅█▆</td></tr><tr><td>F1/automobile</td><td>▁▁▁▇▇█▇▆▆█</td></tr><tr><td>F1/bird</td><td>▁▅▄▅█▇▇▇█▇</td></tr><tr><td>F1/cat</td><td>▅▅▃▁▇▆▆██▇</td></tr><tr><td>F1/deer</td><td>▁▂▇▆▁▄▇▇▇█</td></tr><tr><td>F1/dog</td><td>▁▁▇█▆█▇▅▇█</td></tr><tr><td>F1/frog</td><td>▁▅▆▆▆▇▇▇██</td></tr><tr><td>F1/horse</td><td>▁▄▅▆▇▇▇███</td></tr><tr><td>F1/ship</td><td>▁▄▆▄▅▆▇▇██</td></tr><tr><td>F1/truck</td><td>▁▃▄▅▅▆▇▇█▇</td></tr><tr><td>Precision/airplane</td><td>▃▁▄▅▅▆▅▆█▇</td></tr><tr><td>Precision/automobile</td><td>▁▅▅▄▄▅▆██▆</td></tr><tr><td>Precision/bird</td><td>▁▄▅▄▅▆▆▇██</td></tr><tr><td>Precision/cat</td><td>▁▂▆▃▇▇█▇██</td></tr><tr><td>Precision/deer</td><td>▄▁▁▁▄█▁▅▁▃</td></tr><tr><td>Precision/dog</td><td>▂█▁▂█▄▅▄█▆</td></tr><tr><td>Precision/frog</td><td>▁▁▃▄▃▆█▇▇█</td></tr><tr><td>Precision/horse</td><td>▁▄▅▅█▆▆▇██</td></tr><tr><td>Precision/ship</td><td>▁▃▂▃▂▃▅▃█▅</td></tr><tr><td>Precision/truck</td><td>▁▄▄▆▇▇█▆▇█</td></tr><tr><td>Recall/airplane</td><td>█▄▁▂▁▄▄▂▅▄</td></tr><tr><td>Recall/automobile</td><td>▃▁▁███▆▄▄▇</td></tr><tr><td>Recall/bird</td><td>▁▅▃▄█▆▆▅▆▅</td></tr><tr><td>Recall/cat</td><td>█▅▂▁▆▄▄▆▆▅</td></tr><tr><td>Recall/deer</td><td>▁▂▇▆▁▃▇▆▇█</td></tr><tr><td>Recall/dog</td><td>▁▁▆█▃▆▅▃▄▅</td></tr><tr><td>Recall/frog</td><td>▁▆▆▇█▇▅▆█▇</td></tr><tr><td>Recall/horse</td><td>▁▄▅▆▆▇██▇▇</td></tr><tr><td>Recall/ship</td><td>▁▄▇▄▅▇▆▇▇█</td></tr><tr><td>Recall/truck</td><td>▁▁▅▃▂▄▅▇█▅</td></tr><tr><td>epoch</td><td>▁▂▃▃▄▅▆▆▇█</td></tr><tr><td>f1_avg</td><td>▁▃▅▅▆▇▇▇██</td></tr><tr><td>precision_avg</td><td>▁▃▄▄▆▆▆▇█▇</td></tr><tr><td>recall_avg</td><td>▁▃▅▅▆▇▇▇██</td></tr><tr><td>test_loss</td><td>█▄▃▂▃▂▂▂▁▁</td></tr><tr><td>train_loss</td><td>█▆▄▃▆▃▁▄▂▁</td></tr></table><br/></div><div class=\"wandb-col\"><h3>Run summary:</h3><br/><table class=\"wandb\"><tr><td>F1/airplane</td><td>0.43526</td></tr><tr><td>F1/automobile</td><td>0.55812</td></tr><tr><td>F1/bird</td><td>0.31316</td></tr><tr><td>F1/cat</td><td>0.30755</td></tr><tr><td>F1/deer</td><td>0.38848</td></tr><tr><td>F1/dog</td><td>0.39135</td></tr><tr><td>F1/frog</td><td>0.5311</td></tr><tr><td>F1/horse</td><td>0.50754</td></tr><tr><td>F1/ship</td><td>0.5741</td></tr><tr><td>F1/truck</td><td>0.49267</td></tr><tr><td>Precision/airplane</td><td>0.48466</td></tr><tr><td>Precision/automobile</td><td>0.54764</td></tr><tr><td>Precision/bird</td><td>0.35206</td></tr><tr><td>Precision/cat</td><td>0.29107</td></tr><tr><td>Precision/deer</td><td>0.40769</td></tr><tr><td>Precision/dog</td><td>0.41406</td></tr><tr><td>Precision/frog</td><td>0.52437</td></tr><tr><td>Precision/horse</td><td>0.52871</td></tr><tr><td>Precision/ship</td><td>0.49889</td></tr><tr><td>Precision/truck</td><td>0.46726</td></tr><tr><td>Recall/airplane</td><td>0.395</td></tr><tr><td>Recall/automobile</td><td>0.569</td></tr><tr><td>Recall/bird</td><td>0.282</td></tr><tr><td>Recall/cat</td><td>0.326</td></tr><tr><td>Recall/deer</td><td>0.371</td></tr><tr><td>Recall/dog</td><td>0.371</td></tr><tr><td>Recall/frog</td><td>0.538</td></tr><tr><td>Recall/horse</td><td>0.488</td></tr><tr><td>Recall/ship</td><td>0.676</td></tr><tr><td>Recall/truck</td><td>0.521</td></tr><tr><td>epoch</td><td>10</td></tr><tr><td>f1_avg</td><td>0.44993</td></tr><tr><td>precision_avg</td><td>0.45164</td></tr><tr><td>recall_avg</td><td>0.4537</td></tr><tr><td>test_loss</td><td>1.49577</td></tr><tr><td>train_loss</td><td>68.94114</td></tr></table><br/></div></div>"
      ],
      "text/plain": [
       "<IPython.core.display.HTML object>"
      ]
     },
     "metadata": {},
     "output_type": "display_data"
    },
    {
     "data": {
      "text/html": [
       " View run <strong style=\"color:#cdcd00\">distill_regressor_0.1</strong> at: <a href='https://wandb.ai/kavesnin-hse/Homework-4/runs/y6l0k56k' target=\"_blank\">https://wandb.ai/kavesnin-hse/Homework-4/runs/y6l0k56k</a><br/> View project at: <a href='https://wandb.ai/kavesnin-hse/Homework-4' target=\"_blank\">https://wandb.ai/kavesnin-hse/Homework-4</a><br/>Synced 4 W&B file(s), 0 media file(s), 0 artifact file(s) and 0 other file(s)"
      ],
      "text/plain": [
       "<IPython.core.display.HTML object>"
      ]
     },
     "metadata": {},
     "output_type": "display_data"
    },
    {
     "data": {
      "text/html": [
       "Find logs at: <code>./wandb/run-20250214_210748-y6l0k56k/logs</code>"
      ],
      "text/plain": [
       "<IPython.core.display.HTML object>"
      ]
     },
     "metadata": {},
     "output_type": "display_data"
    }
   ],
   "source": [
    "wandb.init(project='Homework-4', name='distill_regressor_0.1')\n",
    "\n",
    "model = student_model\n",
    "optimizer = optim.Adam(model.parameters(), lr=0.001)\n",
    "scheduler = lr_scheduler.StepLR(optimizer, step_size=2, gamma=0.5)\n",
    "num_epochs = 10\n",
    "\n",
    "for i, epoch in enumerate(range(num_epochs)):\n",
    "    train_loss = train_distill_regressor(model, teacher_model, train_loader, criterion, optimizer, regressor, optimizer_regressor)\n",
    "    test_loss, precision, recall, f1, precision_class, recall_class, f1_class = test(model, test_loader, criterion)\n",
    "\n",
    "    scheduler.step()\n",
    "\n",
    "    log_data = {\n",
    "        'epoch': epoch + 1,\n",
    "        'train_loss': train_loss,\n",
    "        'test_loss': test_loss,\n",
    "        'precision_avg': precision,\n",
    "        'recall_avg': recall,\n",
    "        'f1_avg': f1,\n",
    "    }\n",
    "    \n",
    "    for class_idx, value in enumerate(precision_class):\n",
    "        log_data[f'Precision/{class_labels[class_idx]}'] = value\n",
    "    \n",
    "    for class_idx, value in enumerate(recall_class):\n",
    "        log_data[f'Recall/{class_labels[class_idx]}'] = value\n",
    "    \n",
    "    for class_idx, value in enumerate(f1_class):\n",
    "        log_data[f'F1/{class_labels[class_idx]}'] = value\n",
    "    \n",
    "    wandb.log(log_data)\n",
    "\n",
    "wandb.finish()"
   ]
  },
  {
   "cell_type": "code",
   "execution_count": null,
   "id": "bd0a8336-5f08-4dab-9d57-6947d5cff944",
   "metadata": {},
   "outputs": [],
   "source": []
  }
 ],
 "metadata": {
  "kernelspec": {
   "display_name": "Python 3 (ipykernel)",
   "language": "python",
   "name": "python3"
  },
  "language_info": {
   "codemirror_mode": {
    "name": "ipython",
    "version": 3
   },
   "file_extension": ".py",
   "mimetype": "text/x-python",
   "name": "python",
   "nbconvert_exporter": "python",
   "pygments_lexer": "ipython3",
   "version": "3.11.2"
  }
 },
 "nbformat": 4,
 "nbformat_minor": 5
}
